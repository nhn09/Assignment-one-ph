{
  "nbformat": 4,
  "nbformat_minor": 0,
  "metadata": {
    "colab": {
      "provenance": [],
      "include_colab_link": true
    },
    "kernelspec": {
      "name": "python3",
      "display_name": "Python 3"
    },
    "language_info": {
      "name": "python"
    }
  },
  "cells": [
    {
      "cell_type": "markdown",
      "metadata": {
        "id": "view-in-github",
        "colab_type": "text"
      },
      "source": [
        "<a href=\"https://colab.research.google.com/github/nhn09/NLP-notebooks/blob/main/UIU_RE_technical_submission_Fariha_Fairoz.ipynb\" target=\"_parent\"><img src=\"https://colab.research.google.com/assets/colab-badge.svg\" alt=\"Open In Colab\"/></a>"
      ]
    },
    {
      "cell_type": "code",
      "execution_count": null,
      "metadata": {
        "id": "5sAsN8XTWZtX"
      },
      "outputs": [],
      "source": [
        "import numpy as np\n",
        "import pandas as pd\n",
        "import matplotlib.pyplot as plt\n",
        "import seaborn as sns\n",
        "from sklearn.model_selection import train_test_split\n",
        "from sklearn.preprocessing import StandardScaler\n",
        "from sklearn.linear_model import LinearRegression, LogisticRegression"
      ]
    },
    {
      "cell_type": "markdown",
      "source": [
        "# Basic"
      ],
      "metadata": {
        "id": "RKIiToPd5Kei"
      }
    },
    {
      "cell_type": "code",
      "source": [
        "df = pd.read_excel('/content/test-dataset.xlsx')\n",
        "df.head()"
      ],
      "metadata": {
        "colab": {
          "base_uri": "https://localhost:8080/",
          "height": 490
        },
        "id": "d6CAsfUpyFwQ",
        "outputId": "ae9742c6-3bb3-46b2-a256-81ffa9171717"
      },
      "execution_count": null,
      "outputs": [
        {
          "output_type": "execute_result",
          "data": {
            "text/plain": [
              "   Unnamed: 0  household_id total_income union_name  user_id   profile_name  \\\n",
              "0           1        241175  Lower class       KOLA   988794  মো: সাগরহোসেন   \n",
              "1           2        241176  Lower class       KOLA   988796  মোছা:তামান্না   \n",
              "2           3        241179  Lower class       KOLA   988802   শুকুরুচন্দ্র   \n",
              "3           4        241180  Lower class       KOLA   988807     দিপালীরাণী   \n",
              "4           5        241181  Lower class       KOLA   988809        বুলবুলি   \n",
              "\n",
              "  father_name mother_name             birthday  age  ... RESULT_STAT_BMI  \\\n",
              "0         0.0         0.0  2001-11-05 18:00:00   19  ...             NaN   \n",
              "1         0.0         0.0  2000-06-18 18:00:00   20  ...             NaN   \n",
              "2         0.0         0.0  1978-06-04 18:00:00   42  ...             NaN   \n",
              "3         0.0         0.0  1956-02-02 18:00:00   64  ...             NaN   \n",
              "4         0.0         0.0  1996-12-25 18:00:00   23  ...             NaN   \n",
              "\n",
              "   SUGAR  TAG_NAME  RESULT_STAT_SUGAR  PULSE_RATE RESULT_STAT_PR  SPO2  \\\n",
              "0    NaN       NaN                NaN        96.0         Normal  97.0   \n",
              "1    NaN       NaN                NaN        89.0         Normal   NaN   \n",
              "2    NaN       NaN                NaN        69.0         Normal   NaN   \n",
              "3   8.72    Random             Normal        85.0         Normal   NaN   \n",
              "4    NaN       NaN                NaN       101.0           High   NaN   \n",
              "\n",
              "   RESULT_STAT_SPO2  MUAC  RESULT_STAT_MUAC  \n",
              "0            Normal   NaN               NaN  \n",
              "1               NaN   NaN               NaN  \n",
              "2               NaN   NaN               NaN  \n",
              "3               NaN   NaN               NaN  \n",
              "4               NaN   NaN               NaN  \n",
              "\n",
              "[5 rows x 34 columns]"
            ],
            "text/html": [
              "\n",
              "\n",
              "  <div id=\"df-97c01463-cecc-4dea-b0ff-eee45b31a2c4\">\n",
              "    <div class=\"colab-df-container\">\n",
              "      <div>\n",
              "<style scoped>\n",
              "    .dataframe tbody tr th:only-of-type {\n",
              "        vertical-align: middle;\n",
              "    }\n",
              "\n",
              "    .dataframe tbody tr th {\n",
              "        vertical-align: top;\n",
              "    }\n",
              "\n",
              "    .dataframe thead th {\n",
              "        text-align: right;\n",
              "    }\n",
              "</style>\n",
              "<table border=\"1\" class=\"dataframe\">\n",
              "  <thead>\n",
              "    <tr style=\"text-align: right;\">\n",
              "      <th></th>\n",
              "      <th>Unnamed: 0</th>\n",
              "      <th>household_id</th>\n",
              "      <th>total_income</th>\n",
              "      <th>union_name</th>\n",
              "      <th>user_id</th>\n",
              "      <th>profile_name</th>\n",
              "      <th>father_name</th>\n",
              "      <th>mother_name</th>\n",
              "      <th>birthday</th>\n",
              "      <th>age</th>\n",
              "      <th>...</th>\n",
              "      <th>RESULT_STAT_BMI</th>\n",
              "      <th>SUGAR</th>\n",
              "      <th>TAG_NAME</th>\n",
              "      <th>RESULT_STAT_SUGAR</th>\n",
              "      <th>PULSE_RATE</th>\n",
              "      <th>RESULT_STAT_PR</th>\n",
              "      <th>SPO2</th>\n",
              "      <th>RESULT_STAT_SPO2</th>\n",
              "      <th>MUAC</th>\n",
              "      <th>RESULT_STAT_MUAC</th>\n",
              "    </tr>\n",
              "  </thead>\n",
              "  <tbody>\n",
              "    <tr>\n",
              "      <th>0</th>\n",
              "      <td>1</td>\n",
              "      <td>241175</td>\n",
              "      <td>Lower class</td>\n",
              "      <td>KOLA</td>\n",
              "      <td>988794</td>\n",
              "      <td>মো: সাগরহোসেন</td>\n",
              "      <td>0.0</td>\n",
              "      <td>0.0</td>\n",
              "      <td>2001-11-05 18:00:00</td>\n",
              "      <td>19</td>\n",
              "      <td>...</td>\n",
              "      <td>NaN</td>\n",
              "      <td>NaN</td>\n",
              "      <td>NaN</td>\n",
              "      <td>NaN</td>\n",
              "      <td>96.0</td>\n",
              "      <td>Normal</td>\n",
              "      <td>97.0</td>\n",
              "      <td>Normal</td>\n",
              "      <td>NaN</td>\n",
              "      <td>NaN</td>\n",
              "    </tr>\n",
              "    <tr>\n",
              "      <th>1</th>\n",
              "      <td>2</td>\n",
              "      <td>241176</td>\n",
              "      <td>Lower class</td>\n",
              "      <td>KOLA</td>\n",
              "      <td>988796</td>\n",
              "      <td>মোছা:তামান্না</td>\n",
              "      <td>0.0</td>\n",
              "      <td>0.0</td>\n",
              "      <td>2000-06-18 18:00:00</td>\n",
              "      <td>20</td>\n",
              "      <td>...</td>\n",
              "      <td>NaN</td>\n",
              "      <td>NaN</td>\n",
              "      <td>NaN</td>\n",
              "      <td>NaN</td>\n",
              "      <td>89.0</td>\n",
              "      <td>Normal</td>\n",
              "      <td>NaN</td>\n",
              "      <td>NaN</td>\n",
              "      <td>NaN</td>\n",
              "      <td>NaN</td>\n",
              "    </tr>\n",
              "    <tr>\n",
              "      <th>2</th>\n",
              "      <td>3</td>\n",
              "      <td>241179</td>\n",
              "      <td>Lower class</td>\n",
              "      <td>KOLA</td>\n",
              "      <td>988802</td>\n",
              "      <td>শুকুরুচন্দ্র</td>\n",
              "      <td>0.0</td>\n",
              "      <td>0.0</td>\n",
              "      <td>1978-06-04 18:00:00</td>\n",
              "      <td>42</td>\n",
              "      <td>...</td>\n",
              "      <td>NaN</td>\n",
              "      <td>NaN</td>\n",
              "      <td>NaN</td>\n",
              "      <td>NaN</td>\n",
              "      <td>69.0</td>\n",
              "      <td>Normal</td>\n",
              "      <td>NaN</td>\n",
              "      <td>NaN</td>\n",
              "      <td>NaN</td>\n",
              "      <td>NaN</td>\n",
              "    </tr>\n",
              "    <tr>\n",
              "      <th>3</th>\n",
              "      <td>4</td>\n",
              "      <td>241180</td>\n",
              "      <td>Lower class</td>\n",
              "      <td>KOLA</td>\n",
              "      <td>988807</td>\n",
              "      <td>দিপালীরাণী</td>\n",
              "      <td>0.0</td>\n",
              "      <td>0.0</td>\n",
              "      <td>1956-02-02 18:00:00</td>\n",
              "      <td>64</td>\n",
              "      <td>...</td>\n",
              "      <td>NaN</td>\n",
              "      <td>8.72</td>\n",
              "      <td>Random</td>\n",
              "      <td>Normal</td>\n",
              "      <td>85.0</td>\n",
              "      <td>Normal</td>\n",
              "      <td>NaN</td>\n",
              "      <td>NaN</td>\n",
              "      <td>NaN</td>\n",
              "      <td>NaN</td>\n",
              "    </tr>\n",
              "    <tr>\n",
              "      <th>4</th>\n",
              "      <td>5</td>\n",
              "      <td>241181</td>\n",
              "      <td>Lower class</td>\n",
              "      <td>KOLA</td>\n",
              "      <td>988809</td>\n",
              "      <td>বুলবুলি</td>\n",
              "      <td>0.0</td>\n",
              "      <td>0.0</td>\n",
              "      <td>1996-12-25 18:00:00</td>\n",
              "      <td>23</td>\n",
              "      <td>...</td>\n",
              "      <td>NaN</td>\n",
              "      <td>NaN</td>\n",
              "      <td>NaN</td>\n",
              "      <td>NaN</td>\n",
              "      <td>101.0</td>\n",
              "      <td>High</td>\n",
              "      <td>NaN</td>\n",
              "      <td>NaN</td>\n",
              "      <td>NaN</td>\n",
              "      <td>NaN</td>\n",
              "    </tr>\n",
              "  </tbody>\n",
              "</table>\n",
              "<p>5 rows × 34 columns</p>\n",
              "</div>\n",
              "      <button class=\"colab-df-convert\" onclick=\"convertToInteractive('df-97c01463-cecc-4dea-b0ff-eee45b31a2c4')\"\n",
              "              title=\"Convert this dataframe to an interactive table.\"\n",
              "              style=\"display:none;\">\n",
              "\n",
              "  <svg xmlns=\"http://www.w3.org/2000/svg\" height=\"24px\"viewBox=\"0 0 24 24\"\n",
              "       width=\"24px\">\n",
              "    <path d=\"M0 0h24v24H0V0z\" fill=\"none\"/>\n",
              "    <path d=\"M18.56 5.44l.94 2.06.94-2.06 2.06-.94-2.06-.94-.94-2.06-.94 2.06-2.06.94zm-11 1L8.5 8.5l.94-2.06 2.06-.94-2.06-.94L8.5 2.5l-.94 2.06-2.06.94zm10 10l.94 2.06.94-2.06 2.06-.94-2.06-.94-.94-2.06-.94 2.06-2.06.94z\"/><path d=\"M17.41 7.96l-1.37-1.37c-.4-.4-.92-.59-1.43-.59-.52 0-1.04.2-1.43.59L10.3 9.45l-7.72 7.72c-.78.78-.78 2.05 0 2.83L4 21.41c.39.39.9.59 1.41.59.51 0 1.02-.2 1.41-.59l7.78-7.78 2.81-2.81c.8-.78.8-2.07 0-2.86zM5.41 20L4 18.59l7.72-7.72 1.47 1.35L5.41 20z\"/>\n",
              "  </svg>\n",
              "      </button>\n",
              "\n",
              "\n",
              "\n",
              "    <div id=\"df-425c4127-c733-4aad-8472-9b3d5eb5d378\">\n",
              "      <button class=\"colab-df-quickchart\" onclick=\"quickchart('df-425c4127-c733-4aad-8472-9b3d5eb5d378')\"\n",
              "              title=\"Suggest charts.\"\n",
              "              style=\"display:none;\">\n",
              "\n",
              "<svg xmlns=\"http://www.w3.org/2000/svg\" height=\"24px\"viewBox=\"0 0 24 24\"\n",
              "     width=\"24px\">\n",
              "    <g>\n",
              "        <path d=\"M19 3H5c-1.1 0-2 .9-2 2v14c0 1.1.9 2 2 2h14c1.1 0 2-.9 2-2V5c0-1.1-.9-2-2-2zM9 17H7v-7h2v7zm4 0h-2V7h2v10zm4 0h-2v-4h2v4z\"/>\n",
              "    </g>\n",
              "</svg>\n",
              "      </button>\n",
              "    </div>\n",
              "\n",
              "<style>\n",
              "  .colab-df-quickchart {\n",
              "    background-color: #E8F0FE;\n",
              "    border: none;\n",
              "    border-radius: 50%;\n",
              "    cursor: pointer;\n",
              "    display: none;\n",
              "    fill: #1967D2;\n",
              "    height: 32px;\n",
              "    padding: 0 0 0 0;\n",
              "    width: 32px;\n",
              "  }\n",
              "\n",
              "  .colab-df-quickchart:hover {\n",
              "    background-color: #E2EBFA;\n",
              "    box-shadow: 0px 1px 2px rgba(60, 64, 67, 0.3), 0px 1px 3px 1px rgba(60, 64, 67, 0.15);\n",
              "    fill: #174EA6;\n",
              "  }\n",
              "\n",
              "  [theme=dark] .colab-df-quickchart {\n",
              "    background-color: #3B4455;\n",
              "    fill: #D2E3FC;\n",
              "  }\n",
              "\n",
              "  [theme=dark] .colab-df-quickchart:hover {\n",
              "    background-color: #434B5C;\n",
              "    box-shadow: 0px 1px 3px 1px rgba(0, 0, 0, 0.15);\n",
              "    filter: drop-shadow(0px 1px 2px rgba(0, 0, 0, 0.3));\n",
              "    fill: #FFFFFF;\n",
              "  }\n",
              "</style>\n",
              "\n",
              "    <script>\n",
              "      async function quickchart(key) {\n",
              "        const containerElement = document.querySelector('#' + key);\n",
              "        const charts = await google.colab.kernel.invokeFunction(\n",
              "            'suggestCharts', [key], {});\n",
              "      }\n",
              "    </script>\n",
              "\n",
              "      <script>\n",
              "\n",
              "function displayQuickchartButton(domScope) {\n",
              "  let quickchartButtonEl =\n",
              "    domScope.querySelector('#df-425c4127-c733-4aad-8472-9b3d5eb5d378 button.colab-df-quickchart');\n",
              "  quickchartButtonEl.style.display =\n",
              "    google.colab.kernel.accessAllowed ? 'block' : 'none';\n",
              "}\n",
              "\n",
              "        displayQuickchartButton(document);\n",
              "      </script>\n",
              "      <style>\n",
              "    .colab-df-container {\n",
              "      display:flex;\n",
              "      flex-wrap:wrap;\n",
              "      gap: 12px;\n",
              "    }\n",
              "\n",
              "    .colab-df-convert {\n",
              "      background-color: #E8F0FE;\n",
              "      border: none;\n",
              "      border-radius: 50%;\n",
              "      cursor: pointer;\n",
              "      display: none;\n",
              "      fill: #1967D2;\n",
              "      height: 32px;\n",
              "      padding: 0 0 0 0;\n",
              "      width: 32px;\n",
              "    }\n",
              "\n",
              "    .colab-df-convert:hover {\n",
              "      background-color: #E2EBFA;\n",
              "      box-shadow: 0px 1px 2px rgba(60, 64, 67, 0.3), 0px 1px 3px 1px rgba(60, 64, 67, 0.15);\n",
              "      fill: #174EA6;\n",
              "    }\n",
              "\n",
              "    [theme=dark] .colab-df-convert {\n",
              "      background-color: #3B4455;\n",
              "      fill: #D2E3FC;\n",
              "    }\n",
              "\n",
              "    [theme=dark] .colab-df-convert:hover {\n",
              "      background-color: #434B5C;\n",
              "      box-shadow: 0px 1px 3px 1px rgba(0, 0, 0, 0.15);\n",
              "      filter: drop-shadow(0px 1px 2px rgba(0, 0, 0, 0.3));\n",
              "      fill: #FFFFFF;\n",
              "    }\n",
              "  </style>\n",
              "\n",
              "      <script>\n",
              "        const buttonEl =\n",
              "          document.querySelector('#df-97c01463-cecc-4dea-b0ff-eee45b31a2c4 button.colab-df-convert');\n",
              "        buttonEl.style.display =\n",
              "          google.colab.kernel.accessAllowed ? 'block' : 'none';\n",
              "\n",
              "        async function convertToInteractive(key) {\n",
              "          const element = document.querySelector('#df-97c01463-cecc-4dea-b0ff-eee45b31a2c4');\n",
              "          const dataTable =\n",
              "            await google.colab.kernel.invokeFunction('convertToInteractive',\n",
              "                                                     [key], {});\n",
              "          if (!dataTable) return;\n",
              "\n",
              "          const docLinkHtml = 'Like what you see? Visit the ' +\n",
              "            '<a target=\"_blank\" href=https://colab.research.google.com/notebooks/data_table.ipynb>data table notebook</a>'\n",
              "            + ' to learn more about interactive tables.';\n",
              "          element.innerHTML = '';\n",
              "          dataTable['output_type'] = 'display_data';\n",
              "          await google.colab.output.renderOutput(dataTable, element);\n",
              "          const docLink = document.createElement('div');\n",
              "          docLink.innerHTML = docLinkHtml;\n",
              "          element.appendChild(docLink);\n",
              "        }\n",
              "      </script>\n",
              "    </div>\n",
              "  </div>\n"
            ]
          },
          "metadata": {},
          "execution_count": 4
        }
      ]
    },
    {
      "cell_type": "code",
      "source": [
        "df.info()"
      ],
      "metadata": {
        "colab": {
          "base_uri": "https://localhost:8080/"
        },
        "id": "79N4WttgyaTz",
        "outputId": "a97910cf-c967-42ee-9be6-6b27441c0d15"
      },
      "execution_count": null,
      "outputs": [
        {
          "output_type": "stream",
          "name": "stdout",
          "text": [
            "<class 'pandas.core.frame.DataFrame'>\n",
            "RangeIndex: 29999 entries, 0 to 29998\n",
            "Data columns (total 34 columns):\n",
            " #   Column                      Non-Null Count  Dtype  \n",
            "---  ------                      --------------  -----  \n",
            " 0   Unnamed: 0                  29999 non-null  int64  \n",
            " 1   household_id                29999 non-null  int64  \n",
            " 2   total_income                29999 non-null  object \n",
            " 3   union_name                  29999 non-null  object \n",
            " 4   user_id                     29999 non-null  int64  \n",
            " 5   profile_name                29999 non-null  object \n",
            " 6   father_name                 25561 non-null  object \n",
            " 7   mother_name                 25547 non-null  object \n",
            " 8   birthday                    29999 non-null  object \n",
            " 9   age                         29999 non-null  int64  \n",
            " 10  gender                      29999 non-null  object \n",
            " 11  is_poor                     29999 non-null  int64  \n",
            " 12  is_freedom_fighter          29999 non-null  int64  \n",
            " 13  had_stroke                  29999 non-null  int64  \n",
            " 14  has_cardiovascular_disease  29999 non-null  int64  \n",
            " 15  disabilities_name           29999 non-null  object \n",
            " 16  diabetic                    29999 non-null  bool   \n",
            " 17  profile_hypertensive        29999 non-null  bool   \n",
            " 18  SYSTOLIC                    27600 non-null  float64\n",
            " 19  DIASTOLIC                   27600 non-null  float64\n",
            " 20  RESULT_STAT_BP              27600 non-null  object \n",
            " 21  HEIGHT                      1128 non-null   float64\n",
            " 22  WEIGHT                      1128 non-null   float64\n",
            " 23  BMI                         1128 non-null   float64\n",
            " 24  RESULT_STAT_BMI             1128 non-null   object \n",
            " 25  SUGAR                       1583 non-null   float64\n",
            " 26  TAG_NAME                    1583 non-null   object \n",
            " 27  RESULT_STAT_SUGAR           1583 non-null   object \n",
            " 28  PULSE_RATE                  27455 non-null  float64\n",
            " 29  RESULT_STAT_PR              27455 non-null  object \n",
            " 30  SPO2                        4345 non-null   float64\n",
            " 31  RESULT_STAT_SPO2            4345 non-null   object \n",
            " 32  MUAC                        74 non-null     float64\n",
            " 33  RESULT_STAT_MUAC            74 non-null     object \n",
            "dtypes: bool(2), float64(9), int64(8), object(15)\n",
            "memory usage: 7.4+ MB\n"
          ]
        }
      ]
    },
    {
      "cell_type": "markdown",
      "source": [
        "From initial observation, it is visible that parents' name and profile_name, father_name,mother_name has clearly no impact on the outcome."
      ],
      "metadata": {
        "id": "bs_CQpZfy8ee"
      }
    },
    {
      "cell_type": "code",
      "source": [
        "columns_to_drop = ['profile_name','father_name','mother_name','Unnamed: 0']\n",
        "df = df.drop(columns=columns_to_drop)"
      ],
      "metadata": {
        "id": "2dqPp1T_01p4"
      },
      "execution_count": null,
      "outputs": []
    },
    {
      "cell_type": "code",
      "source": [
        "df.isnull().sum()"
      ],
      "metadata": {
        "colab": {
          "base_uri": "https://localhost:8080/"
        },
        "id": "5yHCHWOhmLdR",
        "outputId": "0073e8e4-653a-4936-8dd5-603d3f0889bd"
      },
      "execution_count": null,
      "outputs": [
        {
          "output_type": "execute_result",
          "data": {
            "text/plain": [
              "household_id                      0\n",
              "total_income                      0\n",
              "union_name                        0\n",
              "user_id                           0\n",
              "birthday                          0\n",
              "age                               0\n",
              "gender                            0\n",
              "is_poor                           0\n",
              "is_freedom_fighter                0\n",
              "had_stroke                        0\n",
              "has_cardiovascular_disease        0\n",
              "disabilities_name                 0\n",
              "diabetic                          0\n",
              "profile_hypertensive              0\n",
              "SYSTOLIC                       2399\n",
              "DIASTOLIC                      2399\n",
              "RESULT_STAT_BP                 2399\n",
              "HEIGHT                        28871\n",
              "WEIGHT                        28871\n",
              "BMI                           28871\n",
              "RESULT_STAT_BMI               28871\n",
              "SUGAR                         28416\n",
              "TAG_NAME                      28416\n",
              "RESULT_STAT_SUGAR             28416\n",
              "PULSE_RATE                     2544\n",
              "RESULT_STAT_PR                 2544\n",
              "SPO2                          25654\n",
              "RESULT_STAT_SPO2              25654\n",
              "MUAC                          29925\n",
              "RESULT_STAT_MUAC              29925\n",
              "dtype: int64"
            ]
          },
          "metadata": {},
          "execution_count": 7
        }
      ]
    },
    {
      "cell_type": "markdown",
      "source": [
        "Some columns have extremely high number of missing data. Though they are very important."
      ],
      "metadata": {
        "id": "oubAR9MktRYM"
      }
    },
    {
      "cell_type": "code",
      "source": [
        "threshold = 0.95  # 95% threshold\n",
        "missing_percentage = df.isnull().mean()\n",
        "columns_missingdata_high = missing_percentage[missing_percentage > threshold].index\n",
        "print(columns_missingdata_high)"
      ],
      "metadata": {
        "colab": {
          "base_uri": "https://localhost:8080/"
        },
        "id": "7md1wtEfvnsJ",
        "outputId": "0d6d6a02-6cef-4fff-fb31-f13ef6bcb6af"
      },
      "execution_count": null,
      "outputs": [
        {
          "output_type": "stream",
          "name": "stdout",
          "text": [
            "Index(['HEIGHT', 'WEIGHT', 'BMI', 'RESULT_STAT_BMI', 'MUAC',\n",
            "       'RESULT_STAT_MUAC'],\n",
            "      dtype='object')\n"
          ]
        }
      ]
    },
    {
      "cell_type": "markdown",
      "source": [
        "more than 85% data is missing. For column with >=90% missing data, imputation might not be the best approach, as it introduces a significant amount of uncertainty and potential bias in the imputed values. Without more collection of data, there is no reliable way to use those features."
      ],
      "metadata": {
        "id": "p2WRYKYGw5r3"
      }
    },
    {
      "cell_type": "code",
      "source": [
        "threshold = 0.9  # 95% threshold\n",
        "missing_percentage = df.isnull().mean()\n",
        "columns_missingdata_high = missing_percentage[missing_percentage > threshold].index\n",
        "print(columns_missingdata_high)"
      ],
      "metadata": {
        "colab": {
          "base_uri": "https://localhost:8080/"
        },
        "id": "B9OvIXbm_p73",
        "outputId": "abb82c10-db69-414b-ee65-7cc1922d094c"
      },
      "execution_count": null,
      "outputs": [
        {
          "output_type": "stream",
          "name": "stdout",
          "text": [
            "Index(['SUGAR', 'TAG_NAME', 'RESULT_STAT_SUGAR'], dtype='object')\n"
          ]
        }
      ]
    },
    {
      "cell_type": "code",
      "source": [
        "threshold = 0.85  # 95% threshold\n",
        "missing_percentage = df.isnull().mean()\n",
        "columns_missingdata_high = missing_percentage[missing_percentage > threshold].index\n",
        "print(columns_missingdata_high)"
      ],
      "metadata": {
        "colab": {
          "base_uri": "https://localhost:8080/"
        },
        "id": "ECU5Qjik_8sG",
        "outputId": "be36d631-dcfd-43fb-8047-931f17cad60d"
      },
      "execution_count": null,
      "outputs": [
        {
          "output_type": "stream",
          "name": "stdout",
          "text": [
            "Index(['SPO2', 'RESULT_STAT_SPO2'], dtype='object')\n"
          ]
        }
      ]
    },
    {
      "cell_type": "code",
      "source": [
        "df.drop(columns=columns_missingdata_high,inplace=True)"
      ],
      "metadata": {
        "id": "9O5VD9VL1jh7"
      },
      "execution_count": null,
      "outputs": []
    },
    {
      "cell_type": "code",
      "source": [
        "df.drop(columns=columns_missingdata_high,inplace=True)"
      ],
      "metadata": {
        "id": "PFAtKgmG_0bU"
      },
      "execution_count": null,
      "outputs": []
    },
    {
      "cell_type": "code",
      "source": [
        "df.info()"
      ],
      "metadata": {
        "colab": {
          "base_uri": "https://localhost:8080/"
        },
        "id": "8Cqszi3p16Q3",
        "outputId": "41f7177f-7c96-422c-ea58-913214d3f089"
      },
      "execution_count": null,
      "outputs": [
        {
          "output_type": "stream",
          "name": "stdout",
          "text": [
            "<class 'pandas.core.frame.DataFrame'>\n",
            "RangeIndex: 29999 entries, 0 to 29998\n",
            "Data columns (total 19 columns):\n",
            " #   Column                      Non-Null Count  Dtype  \n",
            "---  ------                      --------------  -----  \n",
            " 0   household_id                29999 non-null  int64  \n",
            " 1   total_income                29999 non-null  object \n",
            " 2   union_name                  29999 non-null  object \n",
            " 3   user_id                     29999 non-null  int64  \n",
            " 4   birthday                    29999 non-null  object \n",
            " 5   age                         29999 non-null  int64  \n",
            " 6   gender                      29999 non-null  object \n",
            " 7   is_poor                     29999 non-null  int64  \n",
            " 8   is_freedom_fighter          29999 non-null  int64  \n",
            " 9   had_stroke                  29999 non-null  int64  \n",
            " 10  has_cardiovascular_disease  29999 non-null  int64  \n",
            " 11  disabilities_name           29999 non-null  object \n",
            " 12  diabetic                    29999 non-null  bool   \n",
            " 13  profile_hypertensive        29999 non-null  bool   \n",
            " 14  SYSTOLIC                    29999 non-null  float64\n",
            " 15  DIASTOLIC                   29999 non-null  float64\n",
            " 16  RESULT_STAT_BP              29999 non-null  object \n",
            " 17  PULSE_RATE                  29999 non-null  float64\n",
            " 18  RESULT_STAT_PR              29999 non-null  object \n",
            "dtypes: bool(2), float64(3), int64(7), object(7)\n",
            "memory usage: 3.9+ MB\n"
          ]
        }
      ]
    },
    {
      "cell_type": "markdown",
      "source": [
        "# Data imputation for other columns with less number of missing data"
      ],
      "metadata": {
        "id": "ZUBOLyi3x6jZ"
      }
    },
    {
      "cell_type": "code",
      "source": [
        "threshold = 0.5\n",
        "missing_percentage = df.isnull().mean()\n",
        "columns_missingdata = missing_percentage[(missing_percentage > 0) & (missing_percentage < threshold)].index\n",
        "print(columns_missingdata)"
      ],
      "metadata": {
        "colab": {
          "base_uri": "https://localhost:8080/"
        },
        "id": "DlThUMJJyEK_",
        "outputId": "1ffa76f1-700f-4d08-b31c-3ae646e9315f"
      },
      "execution_count": null,
      "outputs": [
        {
          "output_type": "stream",
          "name": "stdout",
          "text": [
            "Index(['SYSTOLIC', 'DIASTOLIC', 'RESULT_STAT_BP', 'PULSE_RATE',\n",
            "       'RESULT_STAT_PR'],\n",
            "      dtype='object')\n"
          ]
        }
      ]
    },
    {
      "cell_type": "code",
      "source": [
        "plt.figure(figsize=(12, 4))\n",
        "\n",
        "\n",
        "feature_data = df['SYSTOLIC']\n",
        "plt.subplot(1, 3, 1)\n",
        "plt.hist(feature_data, bins=30)\n",
        "plt.title('Histogram of SYSTOLIC')\n",
        "\n",
        "feature_data = df['DIASTOLIC']\n",
        "plt.subplot(1, 3, 2)\n",
        "plt.hist(feature_data, bins=30)\n",
        "plt.title('Histogram of DIASTOLIC')\n",
        "\n",
        "# feature_data = df['RESULT_STAT_BP']\n",
        "# plt.subplot(1, 5,3)\n",
        "# plt.hist(feature_data, bins=30)\n",
        "# plt.title('Histogram of Feature')\n",
        "\n",
        "feature_data = df['PULSE_RATE']\n",
        "plt.subplot(1,3,3)\n",
        "plt.hist(feature_data, bins=30)\n",
        "plt.title('Histogram of PULSE_RATE')\n",
        "\n",
        "# feature_data = df['RESULT_STAT_PR']\n",
        "# plt.subplot(1, 5,5)\n",
        "# plt.hist(feature_data, bins=30)\n",
        "# plt.title('Histogram of Feature')\n",
        "\n",
        "\n",
        "plt.show()\n"
      ],
      "metadata": {
        "colab": {
          "base_uri": "https://localhost:8080/",
          "height": 253
        },
        "id": "NEMWMUjh7E9m",
        "outputId": "1a270d55-bbd7-4c36-d8fc-915cfb4bc16c"
      },
      "execution_count": null,
      "outputs": [
        {
          "output_type": "display_data",
          "data": {
            "text/plain": [
              "<Figure size 1200x400 with 3 Axes>"
            ],
            "image/png": "[encoded data removed]"
          },
          "metadata": {}
        }
      ]
    },
    {
      "cell_type": "code",
      "source": [
        "from sklearn.impute import SimpleImputer\n",
        "imputer = SimpleImputer(strategy='most_frequent')\n",
        "df['RESULT_STAT_PR'] = imputer.fit_transform(df[['RESULT_STAT_PR']])\n",
        "df['RESULT_STAT_BP'] = imputer.fit_transform(df[['RESULT_STAT_BP']])\n"
      ],
      "metadata": {
        "id": "SJUnwxs9-pja"
      },
      "execution_count": null,
      "outputs": []
    },
    {
      "cell_type": "code",
      "source": [
        "from sklearn.impute import SimpleImputer\n",
        "\n",
        "imputer = SimpleImputer(strategy='mean')\n",
        "df['SYSTOLIC'] = imputer.fit_transform(df[['SYSTOLIC']])\n",
        "df['DIASTOLIC'] = imputer.fit_transform(df[['DIASTOLIC']])\n",
        "df['PULSE_RATE'] = imputer.fit_transform(df[['PULSE_RATE']])"
      ],
      "metadata": {
        "id": "mvriNQym-85Q"
      },
      "execution_count": null,
      "outputs": []
    },
    {
      "cell_type": "code",
      "source": [
        "# from fancyimpute import KNN\n",
        "\n",
        "# for column in columns_missingdata:\n",
        "#   knn_imputer = KNN(k=5)\n",
        "#   df[column] = knn_imputer.fit_transform(df[[column]])  could not do it as session crashed\n"
      ],
      "metadata": {
        "id": "he6ejx30x_wT"
      },
      "execution_count": null,
      "outputs": []
    },
    {
      "cell_type": "markdown",
      "source": [
        "**Chi square test for categorical values**\n",
        "\n",
        "\n"
      ],
      "metadata": {
        "id": "VAR5KQEr2PIU"
      }
    },
    {
      "cell_type": "markdown",
      "source": [
        "Let the target variable is - has_cardiovascular_disease . We will do chi square test for all the categorical fields to understand significance of that specific feature. The categorical features are - gender, is_poor,is_freedom_fighter,had_stroke,diabetic,profile_hypertensive,RESULT_STAT_BMI,RESULT_STAT_BP,RESULT_STAT_SUGER,RESULT_STAT_PR,RESULT_STAT_SPO2,RESULT_STAT_MUAC"
      ],
      "metadata": {
        "id": "BSLwP8hLirKb"
      }
    },
    {
      "cell_type": "code",
      "source": [
        "df.drop(columns='household_id',inplace=True)"
      ],
      "metadata": {
        "id": "s-KQkcxGAMkk"
      },
      "execution_count": null,
      "outputs": []
    },
    {
      "cell_type": "code",
      "source": [
        "df.info()"
      ],
      "metadata": {
        "colab": {
          "base_uri": "https://localhost:8080/"
        },
        "id": "vo35cnv0_O23",
        "outputId": "340759ac-01ed-4e7b-91f7-83096702d0dc"
      },
      "execution_count": null,
      "outputs": [
        {
          "output_type": "stream",
          "name": "stdout",
          "text": [
            "<class 'pandas.core.frame.DataFrame'>\n",
            "RangeIndex: 29999 entries, 0 to 29998\n",
            "Data columns (total 18 columns):\n",
            " #   Column                      Non-Null Count  Dtype  \n",
            "---  ------                      --------------  -----  \n",
            " 0   total_income                29999 non-null  object \n",
            " 1   union_name                  29999 non-null  object \n",
            " 2   user_id                     29999 non-null  int64  \n",
            " 3   birthday                    29999 non-null  object \n",
            " 4   age                         29999 non-null  int64  \n",
            " 5   gender                      29999 non-null  object \n",
            " 6   is_poor                     29999 non-null  int64  \n",
            " 7   is_freedom_fighter          29999 non-null  int64  \n",
            " 8   had_stroke                  29999 non-null  int64  \n",
            " 9   has_cardiovascular_disease  29999 non-null  int64  \n",
            " 10  disabilities_name           29999 non-null  object \n",
            " 11  diabetic                    29999 non-null  bool   \n",
            " 12  profile_hypertensive        29999 non-null  bool   \n",
            " 13  SYSTOLIC                    29999 non-null  float64\n",
            " 14  DIASTOLIC                   29999 non-null  float64\n",
            " 15  RESULT_STAT_BP              29999 non-null  object \n",
            " 16  PULSE_RATE                  29999 non-null  float64\n",
            " 17  RESULT_STAT_PR              29999 non-null  object \n",
            "dtypes: bool(2), float64(3), int64(6), object(7)\n",
            "memory usage: 3.7+ MB\n"
          ]
        }
      ]
    },
    {
      "cell_type": "code",
      "source": [
        "df_categorical=df[['gender','total_income','disabilities_name','union_name','is_freedom_fighter','had_stroke','diabetic','profile_hypertensive','RESULT_STAT_BP','RESULT_STAT_PR']]\n",
        "df_categorical.head()"
      ],
      "metadata": {
        "colab": {
          "base_uri": "https://localhost:8080/",
          "height": 270
        },
        "id": "sXsNZaITkY9K",
        "outputId": "d3d19f58-14bc-490a-f4b2-6194a4b906c2"
      },
      "execution_count": null,
      "outputs": [
        {
          "output_type": "execute_result",
          "data": {
            "text/plain": [
              "   gender total_income disabilities_name union_name  is_freedom_fighter  \\\n",
              "0    Male  Lower class                 0       KOLA                   0   \n",
              "1  Female  Lower class                 0       KOLA                   0   \n",
              "2    Male  Lower class                 0       KOLA                   0   \n",
              "3  Female  Lower class                 0       KOLA                   0   \n",
              "4  Female  Lower class                 0       KOLA                   0   \n",
              "\n",
              "   had_stroke  diabetic  profile_hypertensive   RESULT_STAT_BP RESULT_STAT_PR  \n",
              "0           0     False                 False  Prehypertension         Normal  \n",
              "1           0     False                 False        Mild High         Normal  \n",
              "2           0     False                 False  Prehypertension         Normal  \n",
              "3           0     False                 False           Normal         Normal  \n",
              "4           0     False                 False  Prehypertension           High  "
            ],
            "text/html": [
              "\n",
              "\n",
              "  <div id=\"df-8a01e720-8231-4ca9-9cea-b79b02d5eaeb\">\n",
              "    <div class=\"colab-df-container\">\n",
              "      <div>\n",
              "<style scoped>\n",
              "    .dataframe tbody tr th:only-of-type {\n",
              "        vertical-align: middle;\n",
              "    }\n",
              "\n",
              "    .dataframe tbody tr th {\n",
              "        vertical-align: top;\n",
              "    }\n",
              "\n",
              "    .dataframe thead th {\n",
              "        text-align: right;\n",
              "    }\n",
              "</style>\n",
              "<table border=\"1\" class=\"dataframe\">\n",
              "  <thead>\n",
              "    <tr style=\"text-align: right;\">\n",
              "      <th></th>\n",
              "      <th>gender</th>\n",
              "      <th>total_income</th>\n",
              "      <th>disabilities_name</th>\n",
              "      <th>union_name</th>\n",
              "      <th>is_freedom_fighter</th>\n",
              "      <th>had_stroke</th>\n",
              "      <th>diabetic</th>\n",
              "      <th>profile_hypertensive</th>\n",
              "      <th>RESULT_STAT_BP</th>\n",
              "      <th>RESULT_STAT_PR</th>\n",
              "    </tr>\n",
              "  </thead>\n",
              "  <tbody>\n",
              "    <tr>\n",
              "      <th>0</th>\n",
              "      <td>Male</td>\n",
              "      <td>Lower class</td>\n",
              "      <td>0</td>\n",
              "      <td>KOLA</td>\n",
              "      <td>0</td>\n",
              "      <td>0</td>\n",
              "      <td>False</td>\n",
              "      <td>False</td>\n",
              "      <td>Prehypertension</td>\n",
              "      <td>Normal</td>\n",
              "    </tr>\n",
              "    <tr>\n",
              "      <th>1</th>\n",
              "      <td>Female</td>\n",
              "      <td>Lower class</td>\n",
              "      <td>0</td>\n",
              "      <td>KOLA</td>\n",
              "      <td>0</td>\n",
              "      <td>0</td>\n",
              "      <td>False</td>\n",
              "      <td>False</td>\n",
              "      <td>Mild High</td>\n",
              "      <td>Normal</td>\n",
              "    </tr>\n",
              "    <tr>\n",
              "      <th>2</th>\n",
              "      <td>Male</td>\n",
              "      <td>Lower class</td>\n",
              "      <td>0</td>\n",
              "      <td>KOLA</td>\n",
              "      <td>0</td>\n",
              "      <td>0</td>\n",
              "      <td>False</td>\n",
              "      <td>False</td>\n",
              "      <td>Prehypertension</td>\n",
              "      <td>Normal</td>\n",
              "    </tr>\n",
              "    <tr>\n",
              "      <th>3</th>\n",
              "      <td>Female</td>\n",
              "      <td>Lower class</td>\n",
              "      <td>0</td>\n",
              "      <td>KOLA</td>\n",
              "      <td>0</td>\n",
              "      <td>0</td>\n",
              "      <td>False</td>\n",
              "      <td>False</td>\n",
              "      <td>Normal</td>\n",
              "      <td>Normal</td>\n",
              "    </tr>\n",
              "    <tr>\n",
              "      <th>4</th>\n",
              "      <td>Female</td>\n",
              "      <td>Lower class</td>\n",
              "      <td>0</td>\n",
              "      <td>KOLA</td>\n",
              "      <td>0</td>\n",
              "      <td>0</td>\n",
              "      <td>False</td>\n",
              "      <td>False</td>\n",
              "      <td>Prehypertension</td>\n",
              "      <td>High</td>\n",
              "    </tr>\n",
              "  </tbody>\n",
              "</table>\n",
              "</div>\n",
              "      <button class=\"colab-df-convert\" onclick=\"convertToInteractive('df-8a01e720-8231-4ca9-9cea-b79b02d5eaeb')\"\n",
              "              title=\"Convert this dataframe to an interactive table.\"\n",
              "              style=\"display:none;\">\n",
              "\n",
              "  <svg xmlns=\"http://www.w3.org/2000/svg\" height=\"24px\"viewBox=\"0 0 24 24\"\n",
              "       width=\"24px\">\n",
              "    <path d=\"M0 0h24v24H0V0z\" fill=\"none\"/>\n",
              "    <path d=\"M18.56 5.44l.94 2.06.94-2.06 2.06-.94-2.06-.94-.94-2.06-.94 2.06-2.06.94zm-11 1L8.5 8.5l.94-2.06 2.06-.94-2.06-.94L8.5 2.5l-.94 2.06-2.06.94zm10 10l.94 2.06.94-2.06 2.06-.94-2.06-.94-.94-2.06-.94 2.06-2.06.94z\"/><path d=\"M17.41 7.96l-1.37-1.37c-.4-.4-.92-.59-1.43-.59-.52 0-1.04.2-1.43.59L10.3 9.45l-7.72 7.72c-.78.78-.78 2.05 0 2.83L4 21.41c.39.39.9.59 1.41.59.51 0 1.02-.2 1.41-.59l7.78-7.78 2.81-2.81c.8-.78.8-2.07 0-2.86zM5.41 20L4 18.59l7.72-7.72 1.47 1.35L5.41 20z\"/>\n",
              "  </svg>\n",
              "      </button>\n",
              "\n",
              "\n",
              "\n",
              "    <div id=\"df-c5bcd978-2357-4149-8035-def5f37ce830\">\n",
              "      <button class=\"colab-df-quickchart\" onclick=\"quickchart('df-c5bcd978-2357-4149-8035-def5f37ce830')\"\n",
              "              title=\"Suggest charts.\"\n",
              "              style=\"display:none;\">\n",
              "\n",
              "<svg xmlns=\"http://www.w3.org/2000/svg\" height=\"24px\"viewBox=\"0 0 24 24\"\n",
              "     width=\"24px\">\n",
              "    <g>\n",
              "        <path d=\"M19 3H5c-1.1 0-2 .9-2 2v14c0 1.1.9 2 2 2h14c1.1 0 2-.9 2-2V5c0-1.1-.9-2-2-2zM9 17H7v-7h2v7zm4 0h-2V7h2v10zm4 0h-2v-4h2v4z\"/>\n",
              "    </g>\n",
              "</svg>\n",
              "      </button>\n",
              "    </div>\n",
              "\n",
              "<style>\n",
              "  .colab-df-quickchart {\n",
              "    background-color: #E8F0FE;\n",
              "    border: none;\n",
              "    border-radius: 50%;\n",
              "    cursor: pointer;\n",
              "    display: none;\n",
              "    fill: #1967D2;\n",
              "    height: 32px;\n",
              "    padding: 0 0 0 0;\n",
              "    width: 32px;\n",
              "  }\n",
              "\n",
              "  .colab-df-quickchart:hover {\n",
              "    background-color: #E2EBFA;\n",
              "    box-shadow: 0px 1px 2px rgba(60, 64, 67, 0.3), 0px 1px 3px 1px rgba(60, 64, 67, 0.15);\n",
              "    fill: #174EA6;\n",
              "  }\n",
              "\n",
              "  [theme=dark] .colab-df-quickchart {\n",
              "    background-color: #3B4455;\n",
              "    fill: #D2E3FC;\n",
              "  }\n",
              "\n",
              "  [theme=dark] .colab-df-quickchart:hover {\n",
              "    background-color: #434B5C;\n",
              "    box-shadow: 0px 1px 3px 1px rgba(0, 0, 0, 0.15);\n",
              "    filter: drop-shadow(0px 1px 2px rgba(0, 0, 0, 0.3));\n",
              "    fill: #FFFFFF;\n",
              "  }\n",
              "</style>\n",
              "\n",
              "    <script>\n",
              "      async function quickchart(key) {\n",
              "        const containerElement = document.querySelector('#' + key);\n",
              "        const charts = await google.colab.kernel.invokeFunction(\n",
              "            'suggestCharts', [key], {});\n",
              "      }\n",
              "    </script>\n",
              "\n",
              "      <script>\n",
              "\n",
              "function displayQuickchartButton(domScope) {\n",
              "  let quickchartButtonEl =\n",
              "    domScope.querySelector('#df-c5bcd978-2357-4149-8035-def5f37ce830 button.colab-df-quickchart');\n",
              "  quickchartButtonEl.style.display =\n",
              "    google.colab.kernel.accessAllowed ? 'block' : 'none';\n",
              "}\n",
              "\n",
              "        displayQuickchartButton(document);\n",
              "      </script>\n",
              "      <style>\n",
              "    .colab-df-container {\n",
              "      display:flex;\n",
              "      flex-wrap:wrap;\n",
              "      gap: 12px;\n",
              "    }\n",
              "\n",
              "    .colab-df-convert {\n",
              "      background-color: #E8F0FE;\n",
              "      border: none;\n",
              "      border-radius: 50%;\n",
              "      cursor: pointer;\n",
              "      display: none;\n",
              "      fill: #1967D2;\n",
              "      height: 32px;\n",
              "      padding: 0 0 0 0;\n",
              "      width: 32px;\n",
              "    }\n",
              "\n",
              "    .colab-df-convert:hover {\n",
              "      background-color: #E2EBFA;\n",
              "      box-shadow: 0px 1px 2px rgba(60, 64, 67, 0.3), 0px 1px 3px 1px rgba(60, 64, 67, 0.15);\n",
              "      fill: #174EA6;\n",
              "    }\n",
              "\n",
              "    [theme=dark] .colab-df-convert {\n",
              "      background-color: #3B4455;\n",
              "      fill: #D2E3FC;\n",
              "    }\n",
              "\n",
              "    [theme=dark] .colab-df-convert:hover {\n",
              "      background-color: #434B5C;\n",
              "      box-shadow: 0px 1px 3px 1px rgba(0, 0, 0, 0.15);\n",
              "      filter: drop-shadow(0px 1px 2px rgba(0, 0, 0, 0.3));\n",
              "      fill: #FFFFFF;\n",
              "    }\n",
              "  </style>\n",
              "\n",
              "      <script>\n",
              "        const buttonEl =\n",
              "          document.querySelector('#df-8a01e720-8231-4ca9-9cea-b79b02d5eaeb button.colab-df-convert');\n",
              "        buttonEl.style.display =\n",
              "          google.colab.kernel.accessAllowed ? 'block' : 'none';\n",
              "\n",
              "        async function convertToInteractive(key) {\n",
              "          const element = document.querySelector('#df-8a01e720-8231-4ca9-9cea-b79b02d5eaeb');\n",
              "          const dataTable =\n",
              "            await google.colab.kernel.invokeFunction('convertToInteractive',\n",
              "                                                     [key], {});\n",
              "          if (!dataTable) return;\n",
              "\n",
              "          const docLinkHtml = 'Like what you see? Visit the ' +\n",
              "            '<a target=\"_blank\" href=https://colab.research.google.com/notebooks/data_table.ipynb>data table notebook</a>'\n",
              "            + ' to learn more about interactive tables.';\n",
              "          element.innerHTML = '';\n",
              "          dataTable['output_type'] = 'display_data';\n",
              "          await google.colab.output.renderOutput(dataTable, element);\n",
              "          const docLink = document.createElement('div');\n",
              "          docLink.innerHTML = docLinkHtml;\n",
              "          element.appendChild(docLink);\n",
              "        }\n",
              "      </script>\n",
              "    </div>\n",
              "  </div>\n"
            ]
          },
          "metadata": {},
          "execution_count": 74
        }
      ]
    },
    {
      "cell_type": "code",
      "source": [
        "def ordinal(column):\n",
        "  ordinal_label = {k: i for i, k in enumerate(df_categorical[column].unique(), 0)}\n",
        "  df_categorical[column] = df_categorical[column].map(ordinal_label)"
      ],
      "metadata": {
        "id": "-D4RE81vkykV"
      },
      "execution_count": null,
      "outputs": []
    },
    {
      "cell_type": "code",
      "source": [
        "for col in  df_categorical.columns:\n",
        "  ordinal(col)"
      ],
      "metadata": {
        "colab": {
          "base_uri": "https://localhost:8080/"
        },
        "id": "nHdskqX0Bwiq",
        "outputId": "1ab03751-8bfc-4a9e-b983-07bb425da4bd"
      },
      "execution_count": null,
      "outputs": [
        {
          "output_type": "stream",
          "name": "stderr",
          "text": [
            "<ipython-input-75-bedf7422bcea>:3: SettingWithCopyWarning: \n",
            "A value is trying to be set on a copy of a slice from a DataFrame.\n",
            "Try using .loc[row_indexer,col_indexer] = value instead\n",
            "\n",
            "See the caveats in the documentation: https://pandas.pydata.org/pandas-docs/stable/user_guide/indexing.html#returning-a-view-versus-a-copy\n",
            "  df_categorical[column] = df_categorical[column].map(ordinal_label)\n",
            "<ipython-input-75-bedf7422bcea>:3: SettingWithCopyWarning: \n",
            "A value is trying to be set on a copy of a slice from a DataFrame.\n",
            "Try using .loc[row_indexer,col_indexer] = value instead\n",
            "\n",
            "See the caveats in the documentation: https://pandas.pydata.org/pandas-docs/stable/user_guide/indexing.html#returning-a-view-versus-a-copy\n",
            "  df_categorical[column] = df_categorical[column].map(ordinal_label)\n",
            "<ipython-input-75-bedf7422bcea>:3: SettingWithCopyWarning: \n",
            "A value is trying to be set on a copy of a slice from a DataFrame.\n",
            "Try using .loc[row_indexer,col_indexer] = value instead\n",
            "\n",
            "See the caveats in the documentation: https://pandas.pydata.org/pandas-docs/stable/user_guide/indexing.html#returning-a-view-versus-a-copy\n",
            "  df_categorical[column] = df_categorical[column].map(ordinal_label)\n",
            "<ipython-input-75-bedf7422bcea>:3: SettingWithCopyWarning: \n",
            "A value is trying to be set on a copy of a slice from a DataFrame.\n",
            "Try using .loc[row_indexer,col_indexer] = value instead\n",
            "\n",
            "See the caveats in the documentation: https://pandas.pydata.org/pandas-docs/stable/user_guide/indexing.html#returning-a-view-versus-a-copy\n",
            "  df_categorical[column] = df_categorical[column].map(ordinal_label)\n",
            "<ipython-input-75-bedf7422bcea>:3: SettingWithCopyWarning: \n",
            "A value is trying to be set on a copy of a slice from a DataFrame.\n",
            "Try using .loc[row_indexer,col_indexer] = value instead\n",
            "\n",
            "See the caveats in the documentation: https://pandas.pydata.org/pandas-docs/stable/user_guide/indexing.html#returning-a-view-versus-a-copy\n",
            "  df_categorical[column] = df_categorical[column].map(ordinal_label)\n",
            "<ipython-input-75-bedf7422bcea>:3: SettingWithCopyWarning: \n",
            "A value is trying to be set on a copy of a slice from a DataFrame.\n",
            "Try using .loc[row_indexer,col_indexer] = value instead\n",
            "\n",
            "See the caveats in the documentation: https://pandas.pydata.org/pandas-docs/stable/user_guide/indexing.html#returning-a-view-versus-a-copy\n",
            "  df_categorical[column] = df_categorical[column].map(ordinal_label)\n",
            "<ipython-input-75-bedf7422bcea>:3: SettingWithCopyWarning: \n",
            "A value is trying to be set on a copy of a slice from a DataFrame.\n",
            "Try using .loc[row_indexer,col_indexer] = value instead\n",
            "\n",
            "See the caveats in the documentation: https://pandas.pydata.org/pandas-docs/stable/user_guide/indexing.html#returning-a-view-versus-a-copy\n",
            "  df_categorical[column] = df_categorical[column].map(ordinal_label)\n",
            "<ipython-input-75-bedf7422bcea>:3: SettingWithCopyWarning: \n",
            "A value is trying to be set on a copy of a slice from a DataFrame.\n",
            "Try using .loc[row_indexer,col_indexer] = value instead\n",
            "\n",
            "See the caveats in the documentation: https://pandas.pydata.org/pandas-docs/stable/user_guide/indexing.html#returning-a-view-versus-a-copy\n",
            "  df_categorical[column] = df_categorical[column].map(ordinal_label)\n",
            "<ipython-input-75-bedf7422bcea>:3: SettingWithCopyWarning: \n",
            "A value is trying to be set on a copy of a slice from a DataFrame.\n",
            "Try using .loc[row_indexer,col_indexer] = value instead\n",
            "\n",
            "See the caveats in the documentation: https://pandas.pydata.org/pandas-docs/stable/user_guide/indexing.html#returning-a-view-versus-a-copy\n",
            "  df_categorical[column] = df_categorical[column].map(ordinal_label)\n",
            "<ipython-input-75-bedf7422bcea>:3: SettingWithCopyWarning: \n",
            "A value is trying to be set on a copy of a slice from a DataFrame.\n",
            "Try using .loc[row_indexer,col_indexer] = value instead\n",
            "\n",
            "See the caveats in the documentation: https://pandas.pydata.org/pandas-docs/stable/user_guide/indexing.html#returning-a-view-versus-a-copy\n",
            "  df_categorical[column] = df_categorical[column].map(ordinal_label)\n"
          ]
        }
      ]
    },
    {
      "cell_type": "code",
      "source": [
        "df_categorical.head()"
      ],
      "metadata": {
        "colab": {
          "base_uri": "https://localhost:8080/",
          "height": 270
        },
        "id": "GK-5yi1SC1rR",
        "outputId": "77fcb292-e2b0-49ea-9060-da76bce464f5"
      },
      "execution_count": null,
      "outputs": [
        {
          "output_type": "execute_result",
          "data": {
            "text/plain": [
              "   gender  total_income  disabilities_name  union_name  is_freedom_fighter  \\\n",
              "0       0             0                  0           0                   0   \n",
              "1       1             0                  0           0                   0   \n",
              "2       0             0                  0           0                   0   \n",
              "3       1             0                  0           0                   0   \n",
              "4       1             0                  0           0                   0   \n",
              "\n",
              "   had_stroke  diabetic  profile_hypertensive  RESULT_STAT_BP  RESULT_STAT_PR  \n",
              "0           0         0                     0               0               0  \n",
              "1           0         0                     0               1               0  \n",
              "2           0         0                     0               0               0  \n",
              "3           0         0                     0               2               0  \n",
              "4           0         0                     0               0               1  "
            ],
            "text/html": [
              "\n",
              "\n",
              "  <div id=\"df-4b5a2380-bf88-45ba-91ae-861558f45995\">\n",
              "    <div class=\"colab-df-container\">\n",
              "      <div>\n",
              "<style scoped>\n",
              "    .dataframe tbody tr th:only-of-type {\n",
              "        vertical-align: middle;\n",
              "    }\n",
              "\n",
              "    .dataframe tbody tr th {\n",
              "        vertical-align: top;\n",
              "    }\n",
              "\n",
              "    .dataframe thead th {\n",
              "        text-align: right;\n",
              "    }\n",
              "</style>\n",
              "<table border=\"1\" class=\"dataframe\">\n",
              "  <thead>\n",
              "    <tr style=\"text-align: right;\">\n",
              "      <th></th>\n",
              "      <th>gender</th>\n",
              "      <th>total_income</th>\n",
              "      <th>disabilities_name</th>\n",
              "      <th>union_name</th>\n",
              "      <th>is_freedom_fighter</th>\n",
              "      <th>had_stroke</th>\n",
              "      <th>diabetic</th>\n",
              "      <th>profile_hypertensive</th>\n",
              "      <th>RESULT_STAT_BP</th>\n",
              "      <th>RESULT_STAT_PR</th>\n",
              "    </tr>\n",
              "  </thead>\n",
              "  <tbody>\n",
              "    <tr>\n",
              "      <th>0</th>\n",
              "      <td>0</td>\n",
              "      <td>0</td>\n",
              "      <td>0</td>\n",
              "      <td>0</td>\n",
              "      <td>0</td>\n",
              "      <td>0</td>\n",
              "      <td>0</td>\n",
              "      <td>0</td>\n",
              "      <td>0</td>\n",
              "      <td>0</td>\n",
              "    </tr>\n",
              "    <tr>\n",
              "      <th>1</th>\n",
              "      <td>1</td>\n",
              "      <td>0</td>\n",
              "      <td>0</td>\n",
              "      <td>0</td>\n",
              "      <td>0</td>\n",
              "      <td>0</td>\n",
              "      <td>0</td>\n",
              "      <td>0</td>\n",
              "      <td>1</td>\n",
              "      <td>0</td>\n",
              "    </tr>\n",
              "    <tr>\n",
              "      <th>2</th>\n",
              "      <td>0</td>\n",
              "      <td>0</td>\n",
              "      <td>0</td>\n",
              "      <td>0</td>\n",
              "      <td>0</td>\n",
              "      <td>0</td>\n",
              "      <td>0</td>\n",
              "      <td>0</td>\n",
              "      <td>0</td>\n",
              "      <td>0</td>\n",
              "    </tr>\n",
              "    <tr>\n",
              "      <th>3</th>\n",
              "      <td>1</td>\n",
              "      <td>0</td>\n",
              "      <td>0</td>\n",
              "      <td>0</td>\n",
              "      <td>0</td>\n",
              "      <td>0</td>\n",
              "      <td>0</td>\n",
              "      <td>0</td>\n",
              "      <td>2</td>\n",
              "      <td>0</td>\n",
              "    </tr>\n",
              "    <tr>\n",
              "      <th>4</th>\n",
              "      <td>1</td>\n",
              "      <td>0</td>\n",
              "      <td>0</td>\n",
              "      <td>0</td>\n",
              "      <td>0</td>\n",
              "      <td>0</td>\n",
              "      <td>0</td>\n",
              "      <td>0</td>\n",
              "      <td>0</td>\n",
              "      <td>1</td>\n",
              "    </tr>\n",
              "  </tbody>\n",
              "</table>\n",
              "</div>\n",
              "      <button class=\"colab-df-convert\" onclick=\"convertToInteractive('df-4b5a2380-bf88-45ba-91ae-861558f45995')\"\n",
              "              title=\"Convert this dataframe to an interactive table.\"\n",
              "              style=\"display:none;\">\n",
              "\n",
              "  <svg xmlns=\"http://www.w3.org/2000/svg\" height=\"24px\"viewBox=\"0 0 24 24\"\n",
              "       width=\"24px\">\n",
              "    <path d=\"M0 0h24v24H0V0z\" fill=\"none\"/>\n",
              "    <path d=\"M18.56 5.44l.94 2.06.94-2.06 2.06-.94-2.06-.94-.94-2.06-.94 2.06-2.06.94zm-11 1L8.5 8.5l.94-2.06 2.06-.94-2.06-.94L8.5 2.5l-.94 2.06-2.06.94zm10 10l.94 2.06.94-2.06 2.06-.94-2.06-.94-.94-2.06-.94 2.06-2.06.94z\"/><path d=\"M17.41 7.96l-1.37-1.37c-.4-.4-.92-.59-1.43-.59-.52 0-1.04.2-1.43.59L10.3 9.45l-7.72 7.72c-.78.78-.78 2.05 0 2.83L4 21.41c.39.39.9.59 1.41.59.51 0 1.02-.2 1.41-.59l7.78-7.78 2.81-2.81c.8-.78.8-2.07 0-2.86zM5.41 20L4 18.59l7.72-7.72 1.47 1.35L5.41 20z\"/>\n",
              "  </svg>\n",
              "      </button>\n",
              "\n",
              "\n",
              "\n",
              "    <div id=\"df-0827be7d-b1de-4add-9cc0-39d3dbc64090\">\n",
              "      <button class=\"colab-df-quickchart\" onclick=\"quickchart('df-0827be7d-b1de-4add-9cc0-39d3dbc64090')\"\n",
              "              title=\"Suggest charts.\"\n",
              "              style=\"display:none;\">\n",
              "\n",
              "<svg xmlns=\"http://www.w3.org/2000/svg\" height=\"24px\"viewBox=\"0 0 24 24\"\n",
              "     width=\"24px\">\n",
              "    <g>\n",
              "        <path d=\"M19 3H5c-1.1 0-2 .9-2 2v14c0 1.1.9 2 2 2h14c1.1 0 2-.9 2-2V5c0-1.1-.9-2-2-2zM9 17H7v-7h2v7zm4 0h-2V7h2v10zm4 0h-2v-4h2v4z\"/>\n",
              "    </g>\n",
              "</svg>\n",
              "      </button>\n",
              "    </div>\n",
              "\n",
              "<style>\n",
              "  .colab-df-quickchart {\n",
              "    background-color: #E8F0FE;\n",
              "    border: none;\n",
              "    border-radius: 50%;\n",
              "    cursor: pointer;\n",
              "    display: none;\n",
              "    fill: #1967D2;\n",
              "    height: 32px;\n",
              "    padding: 0 0 0 0;\n",
              "    width: 32px;\n",
              "  }\n",
              "\n",
              "  .colab-df-quickchart:hover {\n",
              "    background-color: #E2EBFA;\n",
              "    box-shadow: 0px 1px 2px rgba(60, 64, 67, 0.3), 0px 1px 3px 1px rgba(60, 64, 67, 0.15);\n",
              "    fill: #174EA6;\n",
              "  }\n",
              "\n",
              "  [theme=dark] .colab-df-quickchart {\n",
              "    background-color: #3B4455;\n",
              "    fill: #D2E3FC;\n",
              "  }\n",
              "\n",
              "  [theme=dark] .colab-df-quickchart:hover {\n",
              "    background-color: #434B5C;\n",
              "    box-shadow: 0px 1px 3px 1px rgba(0, 0, 0, 0.15);\n",
              "    filter: drop-shadow(0px 1px 2px rgba(0, 0, 0, 0.3));\n",
              "    fill: #FFFFFF;\n",
              "  }\n",
              "</style>\n",
              "\n",
              "    <script>\n",
              "      async function quickchart(key) {\n",
              "        const containerElement = document.querySelector('#' + key);\n",
              "        const charts = await google.colab.kernel.invokeFunction(\n",
              "            'suggestCharts', [key], {});\n",
              "      }\n",
              "    </script>\n",
              "\n",
              "      <script>\n",
              "\n",
              "function displayQuickchartButton(domScope) {\n",
              "  let quickchartButtonEl =\n",
              "    domScope.querySelector('#df-0827be7d-b1de-4add-9cc0-39d3dbc64090 button.colab-df-quickchart');\n",
              "  quickchartButtonEl.style.display =\n",
              "    google.colab.kernel.accessAllowed ? 'block' : 'none';\n",
              "}\n",
              "\n",
              "        displayQuickchartButton(document);\n",
              "      </script>\n",
              "      <style>\n",
              "    .colab-df-container {\n",
              "      display:flex;\n",
              "      flex-wrap:wrap;\n",
              "      gap: 12px;\n",
              "    }\n",
              "\n",
              "    .colab-df-convert {\n",
              "      background-color: #E8F0FE;\n",
              "      border: none;\n",
              "      border-radius: 50%;\n",
              "      cursor: pointer;\n",
              "      display: none;\n",
              "      fill: #1967D2;\n",
              "      height: 32px;\n",
              "      padding: 0 0 0 0;\n",
              "      width: 32px;\n",
              "    }\n",
              "\n",
              "    .colab-df-convert:hover {\n",
              "      background-color: #E2EBFA;\n",
              "      box-shadow: 0px 1px 2px rgba(60, 64, 67, 0.3), 0px 1px 3px 1px rgba(60, 64, 67, 0.15);\n",
              "      fill: #174EA6;\n",
              "    }\n",
              "\n",
              "    [theme=dark] .colab-df-convert {\n",
              "      background-color: #3B4455;\n",
              "      fill: #D2E3FC;\n",
              "    }\n",
              "\n",
              "    [theme=dark] .colab-df-convert:hover {\n",
              "      background-color: #434B5C;\n",
              "      box-shadow: 0px 1px 3px 1px rgba(0, 0, 0, 0.15);\n",
              "      filter: drop-shadow(0px 1px 2px rgba(0, 0, 0, 0.3));\n",
              "      fill: #FFFFFF;\n",
              "    }\n",
              "  </style>\n",
              "\n",
              "      <script>\n",
              "        const buttonEl =\n",
              "          document.querySelector('#df-4b5a2380-bf88-45ba-91ae-861558f45995 button.colab-df-convert');\n",
              "        buttonEl.style.display =\n",
              "          google.colab.kernel.accessAllowed ? 'block' : 'none';\n",
              "\n",
              "        async function convertToInteractive(key) {\n",
              "          const element = document.querySelector('#df-4b5a2380-bf88-45ba-91ae-861558f45995');\n",
              "          const dataTable =\n",
              "            await google.colab.kernel.invokeFunction('convertToInteractive',\n",
              "                                                     [key], {});\n",
              "          if (!dataTable) return;\n",
              "\n",
              "          const docLinkHtml = 'Like what you see? Visit the ' +\n",
              "            '<a target=\"_blank\" href=https://colab.research.google.com/notebooks/data_table.ipynb>data table notebook</a>'\n",
              "            + ' to learn more about interactive tables.';\n",
              "          element.innerHTML = '';\n",
              "          dataTable['output_type'] = 'display_data';\n",
              "          await google.colab.output.renderOutput(dataTable, element);\n",
              "          const docLink = document.createElement('div');\n",
              "          docLink.innerHTML = docLinkHtml;\n",
              "          element.appendChild(docLink);\n",
              "        }\n",
              "      </script>\n",
              "    </div>\n",
              "  </div>\n"
            ]
          },
          "metadata": {},
          "execution_count": 77
        }
      ]
    },
    {
      "cell_type": "code",
      "source": [
        "ordinal_label = {k: i for i, k in enumerate(df['has_cardiovascular_disease'].unique(), 0)}\n",
        "df['has_cardiovascular_disease'] = df['has_cardiovascular_disease'].map(ordinal_label)"
      ],
      "metadata": {
        "id": "RSHDxThJD6Vv"
      },
      "execution_count": null,
      "outputs": []
    },
    {
      "cell_type": "code",
      "source": [
        "df['has_cardiovascular_disease'].unique()"
      ],
      "metadata": {
        "colab": {
          "base_uri": "https://localhost:8080/"
        },
        "id": "lbYI1GM5ITso",
        "outputId": "e5dacd2b-31fc-437c-b221-1ab3bb1df2b3"
      },
      "execution_count": null,
      "outputs": [
        {
          "output_type": "execute_result",
          "data": {
            "text/plain": [
              "array([0, 1])"
            ]
          },
          "metadata": {},
          "execution_count": 67
        }
      ]
    },
    {
      "cell_type": "code",
      "source": [
        "y = df['has_cardiovascular_disease']"
      ],
      "metadata": {
        "id": "pTseKovSDfyz"
      },
      "execution_count": null,
      "outputs": []
    },
    {
      "cell_type": "code",
      "source": [
        "from sklearn.feature_selection import chi2\n",
        "f_p_values=chi2(df_categorical,y)\n",
        "p_values=pd.Series(f_p_values[1])\n",
        "p_values.index=df_categorical.columns\n",
        "p_values.sort_index(ascending=False)"
      ],
      "metadata": {
        "colab": {
          "base_uri": "https://localhost:8080/"
        },
        "id": "G9CxqacGDY9v",
        "outputId": "dca8f8f4-bd7f-4771-f035-6a4ee49d2e7f"
      },
      "execution_count": null,
      "outputs": [
        {
          "output_type": "execute_result",
          "data": {
            "text/plain": [
              "union_name               7.058076e-01\n",
              "total_income             2.303845e-03\n",
              "profile_hypertensive     8.979444e-52\n",
              "is_freedom_fighter       9.342410e-01\n",
              "had_stroke              5.122793e-300\n",
              "gender                   7.946369e-01\n",
              "disabilities_name        6.710207e-01\n",
              "diabetic                 6.421289e-24\n",
              "RESULT_STAT_PR           7.939526e-02\n",
              "RESULT_STAT_BP           5.865423e-01\n",
              "dtype: float64"
            ]
          },
          "metadata": {},
          "execution_count": 79
        }
      ]
    },
    {
      "cell_type": "markdown",
      "source": [
        "**total_income,profile_hypertensive and union name are the most important column when compared to the output feature has_cardiovascular_disease**"
      ],
      "metadata": {
        "id": "vWtCdMPVEu-d"
      }
    },
    {
      "cell_type": "markdown",
      "source": [
        "# `Relation among continuous features`"
      ],
      "metadata": {
        "id": "JHmNpm0sE42y"
      }
    },
    {
      "cell_type": "code",
      "source": [
        "all_columns = set(df.columns)\n",
        "categorical_columns = set(df_categorical.columns)\n",
        "non_categorical_columns = all_columns.difference(categorical_columns)\n",
        "non_categorical_columns_list = list(non_categorical_columns)\n",
        "df_non_categorical = df[non_categorical_columns_list]\n"
      ],
      "metadata": {
        "id": "MR5v920wSz3f"
      },
      "execution_count": null,
      "outputs": []
    },
    {
      "cell_type": "code",
      "source": [
        "df_non_categorical = df_non_categorical.drop(columns=['birthday'])"
      ],
      "metadata": {
        "id": "A4a1fEXoUXdR"
      },
      "execution_count": null,
      "outputs": []
    },
    {
      "cell_type": "code",
      "source": [
        "df_non_categorical = df_non_categorical.drop(columns=['is_poor'])"
      ],
      "metadata": {
        "id": "G8zCLmCxWgzF"
      },
      "execution_count": null,
      "outputs": []
    },
    {
      "cell_type": "code",
      "source": [
        "df_non_categorical.info()"
      ],
      "metadata": {
        "colab": {
          "base_uri": "https://localhost:8080/"
        },
        "id": "Jmns0dK2WP8P",
        "outputId": "51bd3750-9767-4a3d-ba6b-8a0be0a16992"
      },
      "execution_count": null,
      "outputs": [
        {
          "output_type": "stream",
          "name": "stdout",
          "text": [
            "<class 'pandas.core.frame.DataFrame'>\n",
            "RangeIndex: 29999 entries, 0 to 29998\n",
            "Data columns (total 6 columns):\n",
            " #   Column                      Non-Null Count  Dtype  \n",
            "---  ------                      --------------  -----  \n",
            " 0   user_id                     29999 non-null  int64  \n",
            " 1   PULSE_RATE                  29999 non-null  float64\n",
            " 2   age                         29999 non-null  int64  \n",
            " 3   DIASTOLIC                   29999 non-null  float64\n",
            " 4   has_cardiovascular_disease  29999 non-null  int64  \n",
            " 5   SYSTOLIC                    29999 non-null  float64\n",
            "dtypes: float64(3), int64(3)\n",
            "memory usage: 1.4 MB\n"
          ]
        }
      ]
    },
    {
      "cell_type": "code",
      "source": [
        "from scipy.stats import ttest_ind\n",
        "from scipy.stats import f_oneway\n",
        "group_1 = df_non_categorical[df_non_categorical['has_cardiovascular_disease'] == 0]\n",
        "group_2 = df_non_categorical[df_non_categorical['has_cardiovascular_disease'] == 1]"
      ],
      "metadata": {
        "id": "P-PSxgmOSYpE"
      },
      "execution_count": null,
      "outputs": []
    },
    {
      "cell_type": "code",
      "source": [
        "t_test_results = {}\n",
        "for feature in df_non_categorical.columns:\n",
        "    t_stat, p_value = ttest_ind(group_1[feature], group_2[feature])\n",
        "    t_test_results[feature] = {'t_statistic': t_stat, 'p_value': p_value}\n",
        "\n",
        "# Convert the results to a DataFrame for better visualization\n",
        "t_test_results_df = pd.DataFrame(t_test_results).T\n",
        "t_test_results_df['p_value'] = t_test_results_df['p_value'].apply(lambda x: '{:.6f}'.format(x))  # Formatting p-values\n",
        "print(t_test_results_df)\n"
      ],
      "metadata": {
        "colab": {
          "base_uri": "https://localhost:8080/"
        },
        "id": "92r-mgI9TH5o",
        "outputId": "0a3c21c8-2e70-4a5f-c811-cc914ccdbb18"
      },
      "execution_count": null,
      "outputs": [
        {
          "output_type": "stream",
          "name": "stdout",
          "text": [
            "                            t_statistic   p_value\n",
            "user_id                       -0.764087  0.444822\n",
            "PULSE_RATE                     0.155409  0.876500\n",
            "age                           -3.201273  0.001370\n",
            "DIASTOLIC                     -2.163182  0.030535\n",
            "has_cardiovascular_disease         -inf  0.000000\n",
            "SYSTOLIC                      -1.547255  0.121812\n"
          ]
        },
        {
          "output_type": "stream",
          "name": "stderr",
          "text": [
            "<ipython-input-104-af32d67a4fa6>:3: RuntimeWarning: Precision loss occurred in moment calculation due to catastrophic cancellation. This occurs when the data are nearly identical. Results may be unreliable.\n",
            "  t_stat, p_value = ttest_ind(group_1[feature], group_2[feature])\n"
          ]
        }
      ]
    },
    {
      "cell_type": "code",
      "source": [
        "sorted_results_df = t_test_results_df.sort_values(by='p_value')\n",
        "print(sorted_results_df['p_value'])"
      ],
      "metadata": {
        "colab": {
          "base_uri": "https://localhost:8080/"
        },
        "id": "WHZr3GpDW38x",
        "outputId": "f70d27be-3890-48fd-c1a3-6ccdef250fb6"
      },
      "execution_count": null,
      "outputs": [
        {
          "output_type": "stream",
          "name": "stdout",
          "text": [
            "has_cardiovascular_disease    0.000000\n",
            "age                           0.001370\n",
            "DIASTOLIC                     0.030535\n",
            "SYSTOLIC                      0.121812\n",
            "user_id                       0.444822\n",
            "PULSE_RATE                    0.876500\n",
            "Name: p_value, dtype: object\n"
          ]
        }
      ]
    }
  ]
}