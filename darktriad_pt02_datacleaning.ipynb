{
  "nbformat": 4,
  "nbformat_minor": 0,
  "metadata": {
    "colab": {
      "name": "darktriad_pt02_datacleaning.ipynb",
      "provenance": [],
      "authorship_tag": "ABX9TyMyzsD/X2dwd94hF6OrFKSy",
      "include_colab_link": true
    },
    "kernelspec": {
      "name": "python3",
      "display_name": "Python 3"
    },
    "language_info": {
      "name": "python"
    }
  },
  "cells": [
    {
      "cell_type": "markdown",
      "metadata": {
        "id": "view-in-github",
        "colab_type": "text"
      },
      "source": [
        "<a href=\"https://colab.research.google.com/github/nhn09/NLP-notebooks/blob/main/darktriad_pt02_datacleaning.ipynb\" target=\"_parent\"><img src=\"https://colab.research.google.com/assets/colab-badge.svg\" alt=\"Open In Colab\"/></a>"
      ]
    },
    {
      "cell_type": "code",
      "execution_count": null,
      "metadata": {
        "id": "4BvSbtKBcFCn"
      },
      "outputs": [],
      "source": [
        "import nltk\n",
        "nltk.download()\n",
        "from gensim.models import Word2Vec\n",
        "from nltk.corpus import stopwords\n",
        "import re\n",
        "from nltk.stem.porter import PorterStemmer\n",
        "from nltk.stem import WordNetLemmatizer\n",
        "\n",
        "stemmer = PorterStemmer()\n",
        "wordnet = WordNetLemmatizer()"
      ]
    },
    {
      "cell_type": "code",
      "source": [
        "import pandas as pd\n",
        "import numpy as np\n"
      ],
      "metadata": {
        "id": "rTiqFe5Xch0b"
      },
      "execution_count": null,
      "outputs": []
    },
    {
      "cell_type": "code",
      "source": [
        "dataset = pd.read_csv('/content/postwithScore.csv')"
      ],
      "metadata": {
        "id": "Mei8BG2ucYkD"
      },
      "execution_count": null,
      "outputs": []
    },
    {
      "cell_type": "code",
      "source": [
        "dataset=dataset.drop(columns=['Unnamed: 0'])"
      ],
      "metadata": {
        "id": "8g8GXkZbdCe8"
      },
      "execution_count": null,
      "outputs": []
    },
    {
      "cell_type": "code",
      "source": [
        "dataset.head()\n",
        "dataset.columns"
      ],
      "metadata": {
        "colab": {
          "base_uri": "https://localhost:8080/"
        },
        "id": "d0_OmLlzc5DZ",
        "outputId": "c5a498d5-8d77-4580-a882-c4401d942819"
      },
      "execution_count": null,
      "outputs": [
        {
          "output_type": "execute_result",
          "data": {
            "text/plain": [
              "Index(['post ', 'Mach', 'LSRP12', 'LSRP2', 'NRSM'], dtype='object')"
            ]
          },
          "metadata": {},
          "execution_count": 93
        }
      ]
    },
    {
      "cell_type": "code",
      "source": [
        "dataset = dataset.drop(dataset[dataset['post '] =='undefined'].index).reset_index()"
      ],
      "metadata": {
        "id": "7xhDZojbfiIN"
      },
      "execution_count": null,
      "outputs": []
    },
    {
      "cell_type": "code",
      "source": [
        "finalDataSet = dataset.to_csv('finalDataset.csv')"
      ],
      "metadata": {
        "id": "uXiqzFYjyZCI"
      },
      "execution_count": null,
      "outputs": []
    },
    {
      "cell_type": "code",
      "source": [
        "dataset.loc[dataset.Mach <51 , \"Mach\"] = 0\n",
        "dataset.loc[dataset.Mach > 50, \"Mach\"] = 1\n"
      ],
      "metadata": {
        "id": "gTlGfCOitJy1"
      },
      "execution_count": null,
      "outputs": []
    },
    {
      "cell_type": "code",
      "source": [
        "dataset =  dataset[dataset['post '].notna()].reset_index()"
      ],
      "metadata": {
        "id": "jSRXetjgf2U-"
      },
      "execution_count": null,
      "outputs": []
    },
    {
      "cell_type": "code",
      "source": [
        "dataset['post '].shape"
      ],
      "metadata": {
        "colab": {
          "base_uri": "https://localhost:8080/"
        },
        "id": "XAU9vZlIohFq",
        "outputId": "9addd5da-1573-42d2-a22b-748ea9f6d8ed"
      },
      "execution_count": null,
      "outputs": [
        {
          "output_type": "execute_result",
          "data": {
            "text/plain": [
              "(8692,)"
            ]
          },
          "metadata": {},
          "execution_count": 98
        }
      ]
    },
    {
      "cell_type": "markdown",
      "source": [
        "data cleaning with tfidf"
      ],
      "metadata": {
        "id": "yqJyiWogdzNC"
      }
    },
    {
      "cell_type": "code",
      "source": [
        "# sentences = nltk.sent_tokenize(paragraph)\n",
        "corpus = []\n",
        "\n",
        "for i in range(0,len(dataset)):\n",
        "  sentences = nltk.sent_tokenize(text)\n",
        "  review = re.sub('[^a-zA-Z]',' ',dataset['post '][i])\n",
        "  review = review.lower()\n",
        "  review = review.split()\n",
        "  review = [wordnet.lemmatize(word) for word in review if not word in set(stopwords.words('english'))]\n",
        "  review = ' '.join(review)\n",
        "  corpus.append(review)\n",
        "\n",
        "from sklearn.feature_extraction.text import CountVectorizer\n",
        "cv = CountVectorizer(max_features=5000)\n",
        "X = cv.fit_transform(corpus).toarray()"
      ],
      "metadata": {
        "id": "9Cj9L-Sad0nb"
      },
      "execution_count": null,
      "outputs": []
    },
    {
      "cell_type": "code",
      "source": [
        "Y =dataset['Mach']"
      ],
      "metadata": {
        "id": "b2XxeenhpnL2"
      },
      "execution_count": null,
      "outputs": []
    },
    {
      "cell_type": "code",
      "source": [
        "Y.shape"
      ],
      "metadata": {
        "colab": {
          "base_uri": "https://localhost:8080/"
        },
        "id": "GjE4NYmrpwIt",
        "outputId": "4ae61fd1-2612-446b-9b5a-59bbe28b1904"
      },
      "execution_count": null,
      "outputs": [
        {
          "output_type": "execute_result",
          "data": {
            "text/plain": [
              "(8692,)"
            ]
          },
          "metadata": {},
          "execution_count": 102
        }
      ]
    },
    {
      "cell_type": "code",
      "source": [
        "print(Y)"
      ],
      "metadata": {
        "colab": {
          "base_uri": "https://localhost:8080/"
        },
        "id": "fPSud3PVp2xK",
        "outputId": "578d25ff-18e8-4db0-e962-720c8a3f0670"
      },
      "execution_count": null,
      "outputs": [
        {
          "output_type": "stream",
          "name": "stdout",
          "text": [
            "0       1.0\n",
            "1       1.0\n",
            "2       1.0\n",
            "3       1.0\n",
            "4       1.0\n",
            "       ... \n",
            "8687    1.0\n",
            "8688    1.0\n",
            "8689    1.0\n",
            "8690    1.0\n",
            "8691    1.0\n",
            "Name: Mach, Length: 8692, dtype: float64\n"
          ]
        }
      ]
    },
    {
      "cell_type": "code",
      "source": [
        "from sklearn.model_selection import train_test_split\n",
        "X_train,X_test,Y_train,Y_test = train_test_split(X,Y,test_size = 0.20 , random_state=42 )\n"
      ],
      "metadata": {
        "id": "9yckkWoKqVoM"
      },
      "execution_count": null,
      "outputs": []
    },
    {
      "cell_type": "markdown",
      "source": [
        "# Naive bayes"
      ],
      "metadata": {
        "id": "rnDlGEgBdiq8"
      }
    },
    {
      "cell_type": "code",
      "source": [
        "from sklearn.naive_bayes import MultinomialNB\n",
        "machi_model = MultinomialNB().fit(X_train,Y_train)\n",
        "\n",
        "y_pred = machi_model.predict(X_test)\n",
        "\n",
        "from sklearn.metrics import mean_squared_error\n",
        "\n",
        "mean_squared_error(Y_test,y_pred)\n"
      ],
      "metadata": {
        "colab": {
          "base_uri": "https://localhost:8080/"
        },
        "id": "NJOqND0XdH5H",
        "outputId": "f4cba692-f44c-4831-d301-47e938e48d4a"
      },
      "execution_count": null,
      "outputs": [
        {
          "output_type": "execute_result",
          "data": {
            "text/plain": [
              "0.3881541115583669"
            ]
          },
          "metadata": {},
          "execution_count": 105
        }
      ]
    },
    {
      "cell_type": "code",
      "source": [
        "from sklearn import metrics\n",
        "\n",
        "# Model Accuracy: how often is the classifier correct?\n",
        "print(\"Accuracy:\",metrics.accuracy_score(Y_test, y_pred))"
      ],
      "metadata": {
        "colab": {
          "base_uri": "https://localhost:8080/"
        },
        "id": "fRwSmSz8v7kt",
        "outputId": "29f72102-2adb-4049-91a9-ea6a75f6e293"
      },
      "execution_count": null,
      "outputs": [
        {
          "output_type": "stream",
          "name": "stdout",
          "text": [
            "Accuracy: 0.6118458884416331\n"
          ]
        }
      ]
    },
    {
      "cell_type": "markdown",
      "source": [
        "# SVM"
      ],
      "metadata": {
        "id": "VJuxG19AvmeB"
      }
    },
    {
      "cell_type": "code",
      "source": [
        "from sklearn import svm\n",
        "\n",
        "#Create a svm Classifier\n",
        "clf = svm.SVC(kernel='linear') # Linear Kernel\n",
        "\n",
        "#Train the model using the training sets\n",
        "clf.fit(X_train,Y_train)\n",
        "\n",
        "#Predict the response for test dataset\n",
        "y_pred_svm = clf.predict(X_test)"
      ],
      "metadata": {
        "id": "xSW89bLGvmHv"
      },
      "execution_count": null,
      "outputs": []
    },
    {
      "cell_type": "code",
      "source": [
        "\n",
        "\n",
        "# Model Accuracy: how often is the classifier correct?\n",
        "print(\"Accuracy:\",metrics.accuracy_score(Y_test, y_pred_svm))"
      ],
      "metadata": {
        "colab": {
          "base_uri": "https://localhost:8080/"
        },
        "id": "RpKgMKuov0Wx",
        "outputId": "1001b67e-32c6-4540-d33d-9b5517c64446"
      },
      "execution_count": null,
      "outputs": [
        {
          "output_type": "stream",
          "name": "stdout",
          "text": [
            "Accuracy: 0.6066705002875216\n"
          ]
        }
      ]
    }
  ]
}