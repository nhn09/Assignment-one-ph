{
  "nbformat": 4,
  "nbformat_minor": 0,
  "metadata": {
    "colab": {
      "name": "wordtovecprtactice.ipynb",
      "provenance": [],
      "authorship_tag": "ABX9TyM9ZAwBPbg8zDklw0rLxmUh",
      "include_colab_link": true
    },
    "kernelspec": {
      "name": "python3",
      "display_name": "Python 3"
    },
    "language_info": {
      "name": "python"
    }
  },
  "cells": [
    {
      "cell_type": "markdown",
      "metadata": {
        "id": "view-in-github",
        "colab_type": "text"
      },
      "source": [
        "<a href=\"https://colab.research.google.com/github/nhn09/NLP-notebooks/blob/main/wordtovecprtactice.ipynb\" target=\"_parent\"><img src=\"https://colab.research.google.com/assets/colab-badge.svg\" alt=\"Open In Colab\"/></a>"
      ]
    },
    {
      "cell_type": "code",
      "execution_count": null,
      "metadata": {
        "colab": {
          "base_uri": "https://localhost:8080/"
        },
        "id": "MhAOQLJ_1mHQ",
        "outputId": "bbf30d92-84fb-4e03-e263-e8ccb1856720"
      },
      "outputs": [
        {
          "output_type": "stream",
          "name": "stdout",
          "text": [
            "Requirement already satisfied: gensim in /usr/local/lib/python3.7/dist-packages (3.6.0)\n",
            "Requirement already satisfied: numpy>=1.11.3 in /usr/local/lib/python3.7/dist-packages (from gensim) (1.19.5)\n",
            "Requirement already satisfied: smart-open>=1.2.1 in /usr/local/lib/python3.7/dist-packages (from gensim) (5.2.1)\n",
            "Requirement already satisfied: six>=1.5.0 in /usr/local/lib/python3.7/dist-packages (from gensim) (1.15.0)\n",
            "Requirement already satisfied: scipy>=0.18.1 in /usr/local/lib/python3.7/dist-packages (from gensim) (1.4.1)\n"
          ]
        }
      ],
      "source": [
        "!pip install gensim\n"
      ]
    },
    {
      "cell_type": "code",
      "source": [
        "import nltk\n",
        "from gensim.models import Word2Vec\n",
        "from nltk.corpus import stopwords\n",
        "import re"
      ],
      "metadata": {
        "id": "ZV7IUZdR2USf"
      },
      "execution_count": null,
      "outputs": []
    },
    {
      "cell_type": "code",
      "source": [
        "nltk.download(\"popular\")"
      ],
      "metadata": {
        "colab": {
          "base_uri": "https://localhost:8080/"
        },
        "id": "pSPErfPoHEjE",
        "outputId": "a27880a0-1568-46b0-9ec7-e3822a754930"
      },
      "execution_count": null,
      "outputs": [
        {
          "output_type": "stream",
          "name": "stdout",
          "text": [
            "[nltk_data] Downloading collection 'popular'\n",
            "[nltk_data]    | \n",
            "[nltk_data]    | Downloading package cmudict to /root/nltk_data...\n",
            "[nltk_data]    |   Unzipping corpora/cmudict.zip.\n",
            "[nltk_data]    | Downloading package gazetteers to /root/nltk_data...\n",
            "[nltk_data]    |   Unzipping corpora/gazetteers.zip.\n",
            "[nltk_data]    | Downloading package genesis to /root/nltk_data...\n",
            "[nltk_data]    |   Unzipping corpora/genesis.zip.\n",
            "[nltk_data]    | Downloading package gutenberg to /root/nltk_data...\n",
            "[nltk_data]    |   Unzipping corpora/gutenberg.zip.\n",
            "[nltk_data]    | Downloading package inaugural to /root/nltk_data...\n",
            "[nltk_data]    |   Unzipping corpora/inaugural.zip.\n",
            "[nltk_data]    | Downloading package movie_reviews to\n",
            "[nltk_data]    |     /root/nltk_data...\n",
            "[nltk_data]    |   Unzipping corpora/movie_reviews.zip.\n",
            "[nltk_data]    | Downloading package names to /root/nltk_data...\n",
            "[nltk_data]    |   Unzipping corpora/names.zip.\n",
            "[nltk_data]    | Downloading package shakespeare to /root/nltk_data...\n",
            "[nltk_data]    |   Unzipping corpora/shakespeare.zip.\n",
            "[nltk_data]    | Downloading package stopwords to /root/nltk_data...\n",
            "[nltk_data]    |   Unzipping corpora/stopwords.zip.\n",
            "[nltk_data]    | Downloading package treebank to /root/nltk_data...\n",
            "[nltk_data]    |   Unzipping corpora/treebank.zip.\n",
            "[nltk_data]    | Downloading package twitter_samples to\n",
            "[nltk_data]    |     /root/nltk_data...\n",
            "[nltk_data]    |   Unzipping corpora/twitter_samples.zip.\n",
            "[nltk_data]    | Downloading package omw-1.4 to /root/nltk_data...\n",
            "[nltk_data]    |   Unzipping corpora/omw-1.4.zip.\n",
            "[nltk_data]    | Downloading package omw to /root/nltk_data...\n",
            "[nltk_data]    |   Unzipping corpora/omw.zip.\n",
            "[nltk_data]    | Downloading package wordnet to /root/nltk_data...\n",
            "[nltk_data]    |   Unzipping corpora/wordnet.zip.\n",
            "[nltk_data]    | Downloading package wordnet31 to /root/nltk_data...\n",
            "[nltk_data]    |   Unzipping corpora/wordnet31.zip.\n",
            "[nltk_data]    | Downloading package wordnet_ic to /root/nltk_data...\n",
            "[nltk_data]    |   Unzipping corpora/wordnet_ic.zip.\n",
            "[nltk_data]    | Downloading package words to /root/nltk_data...\n",
            "[nltk_data]    |   Unzipping corpora/words.zip.\n",
            "[nltk_data]    | Downloading package maxent_ne_chunker to\n",
            "[nltk_data]    |     /root/nltk_data...\n",
            "[nltk_data]    |   Unzipping chunkers/maxent_ne_chunker.zip.\n",
            "[nltk_data]    | Downloading package punkt to /root/nltk_data...\n",
            "[nltk_data]    |   Unzipping tokenizers/punkt.zip.\n",
            "[nltk_data]    | Downloading package snowball_data to\n",
            "[nltk_data]    |     /root/nltk_data...\n",
            "[nltk_data]    | Downloading package averaged_perceptron_tagger to\n",
            "[nltk_data]    |     /root/nltk_data...\n",
            "[nltk_data]    |   Unzipping taggers/averaged_perceptron_tagger.zip.\n",
            "[nltk_data]    | \n",
            "[nltk_data]  Done downloading collection popular\n"
          ]
        },
        {
          "output_type": "execute_result",
          "data": {
            "text/plain": [
              "True"
            ]
          },
          "metadata": {},
          "execution_count": 9
        }
      ]
    },
    {
      "cell_type": "code",
      "source": [
        "paragraph = \"\"\"A computer is a programmable electronic device that accepts raw data as input and processes it with a set of instructions (a program) to produce the result as output. It renders output just after performing mathematical and logical operations and can save the output for future use. It can process numerical as well as non-numerical calculations. The term \"computer\" is derived from the Latin word \"computare\" which means to calculate.\n",
        "A computer is designed to execute applications and provides a variety of solutions through integrated hardware and software components. It works with the help of programs and represents the decimal numbers through a string of binary digits. It also has a memory that stores the data, programs, and result of processing. The components of a computer such as machinery that includes wires, transistors, circuits, hard disk are called hardware. Whereas, the programs and data are called software.\n",
        "It is believed that the Analytical Engine was the first computer which was invented by Charles Babbage in 1837. It used punch cards as read-only memory. Charles Babbage is also known as the father of the computer.\n",
        "Processor executes instructions from software and hardware.\n",
        "Memory is the primary memory for data transfer between the CPU and storage.\n",
        "Motherboard is the part that connects all other parts or components of a computer.\n",
        "Storage Device permanently stores the data, e.g., hard drive.\n",
        "Input Device allows you to communicate with the computer or to input data, e.g., a keyboard.\n",
        "Output Device enables you to see the output, e.g., monitor.\n",
        "Computers are divided into different types based on different criteria. Based on the size, a computer can be divided into five types:\n",
        "Micro Computer is a single-user computer which has less speed and storage capacity than the other types. It uses a microprocessor as a CPU. The first microcomputer was built with 8-bit microprocessor chips. The common examples of microcomputers include laptops, desktop computers, personal digital assistant (PDA), tablets, and smartphones. Microcomputers are generally designed and developed for general usage like browsing, searching for information, internet, MS Office, social media, etc.\n",
        "Mini-computers are also known as \"Midrange Computers.\" They are not designed for a single. They are multi-user computers designed to support multiple users simultaneously. So, they are generally used by small businesses and firms. Individual departments of a company use these computers for specific purposes. For example, the admission department of a University can use a Mini-computer for monitoring the admission process.\n",
        "Mainframe Computer is also a multi-user computer capable of supporting thousands of users simultaneously. They are used by large firms and government organizations to run their business operations as they can store and process large amounts of data. For example, Banks, universities, and insurance companies use mainframe computers to store the data of their customers, students, and policyholders, respectively.\n",
        "Super-computers are the fastest and most expensive computers among all types of computers. They have huge storage capacities and computing speeds and thus can perform millions of instructions per second. The super-computers are task-specific and thus used for specialized applications such as large-scale numerical problems in scientific and engineering disciplines including applications in electronics, petroleum engineering, weather forecasting, medicine, space research and more. For example, NASA uses supercomputers for launching space satellites and monitoring and controlling them for space exploration.\n",
        "Work stations is a single-user computer. Although it is like a personal computer, it has a more powerful microprocessor and a higher-quality monitor than a microcomputer. In terms of storage capacity and speed, it comes between a personal computer and minicomputer. Work stations are generally used for specialized applications such as desktop publishing, software development, and engineering designs.\"\"\""
      ],
      "metadata": {
        "id": "xGUbqNXL2j1P"
      },
      "execution_count": null,
      "outputs": []
    },
    {
      "cell_type": "code",
      "source": [
        "#prerpocessing\n",
        "\n",
        "text = re.sub(r'\\[0-9]*\\]', ' ',paragraph)\n",
        "text = re.sub(r'\\s+',' ',text)\n",
        "text = text.lower()\n",
        "text = re.sub(r'\\d',' ',text)\n",
        "text = re.sub(r'\\s+',' ',text)"
      ],
      "metadata": {
        "id": "jGkCje_d3h_l"
      },
      "execution_count": null,
      "outputs": []
    },
    {
      "cell_type": "code",
      "source": [
        "print(text)"
      ],
      "metadata": {
        "colab": {
          "base_uri": "https://localhost:8080/"
        },
        "id": "awEquHfP5WBH",
        "outputId": "ec0f663b-16f5-45ef-f104-6987784a1da6"
      },
      "execution_count": null,
      "outputs": [
        {
          "output_type": "stream",
          "name": "stdout",
          "text": [
            "a computer is a programmable electronic device that accepts raw data as input and processes it with a set of instructions (a program) to produce the result as output. it renders output just after performing mathematical and logical operations and can save the output for future use. it can process numerical as well as non-numerical calculations. the term \"computer\" is derived from the latin word \"computare\" which means to calculate. a computer is designed to execute applications and provides a variety of solutions through integrated hardware and software components. it works with the help of programs and represents the decimal numbers through a string of binary digits. it also has a memory that stores the data, programs, and result of processing. the components of a computer such as machinery that includes wires, transistors, circuits, hard disk are called hardware. whereas, the programs and data are called software. it is believed that the analytical engine was the first computer which was invented by charles babbage in . it used punch cards as read-only memory. charles babbage is also known as the father of the computer. processor executes instructions from software and hardware. memory is the primary memory for data transfer between the cpu and storage. motherboard is the part that connects all other parts or components of a computer. storage device permanently stores the data, e.g., hard drive. input device allows you to communicate with the computer or to input data, e.g., a keyboard. output device enables you to see the output, e.g., monitor. computers are divided into different types based on different criteria. based on the size, a computer can be divided into five types: micro computer is a single-user computer which has less speed and storage capacity than the other types. it uses a microprocessor as a cpu. the first microcomputer was built with -bit microprocessor chips. the common examples of microcomputers include laptops, desktop computers, personal digital assistant (pda), tablets, and smartphones. microcomputers are generally designed and developed for general usage like browsing, searching for information, internet, ms office, social media, etc. mini-computers are also known as \"midrange computers.\" they are not designed for a single. they are multi-user computers designed to support multiple users simultaneously. so, they are generally used by small businesses and firms. individual departments of a company use these computers for specific purposes. for example, the admission department of a university can use a mini-computer for monitoring the admission process. mainframe computer is also a multi-user computer capable of supporting thousands of users simultaneously. they are used by large firms and government organizations to run their business operations as they can store and process large amounts of data. for example, banks, universities, and insurance companies use mainframe computers to store the data of their customers, students, and policyholders, respectively. super-computers are the fastest and most expensive computers among all types of computers. they have huge storage capacities and computing speeds and thus can perform millions of instructions per second. the super-computers are task-specific and thus used for specialized applications such as large-scale numerical problems in scientific and engineering disciplines including applications in electronics, petroleum engineering, weather forecasting, medicine, space research and more. for example, nasa uses supercomputers for launching space satellites and monitoring and controlling them for space exploration. work stations is a single-user computer. although it is like a personal computer, it has a more powerful microprocessor and a higher-quality monitor than a microcomputer. in terms of storage capacity and speed, it comes between a personal computer and minicomputer. work stations are generally used for specialized applications such as desktop publishing, software development, and engineering designs.\n"
          ]
        }
      ]
    },
    {
      "cell_type": "code",
      "source": [
        "sentences = nltk.sent_tokenize(text)"
      ],
      "metadata": {
        "id": "WfH4Qd7kGjMC"
      },
      "execution_count": null,
      "outputs": []
    },
    {
      "cell_type": "code",
      "source": [
        "sentences = [nltk.word_tokenize(sentence) for sentence in sentences]"
      ],
      "metadata": {
        "id": "6EzZ-2ssG30F"
      },
      "execution_count": null,
      "outputs": []
    },
    {
      "cell_type": "code",
      "source": [
        "for i in range(len(sentences)):\n",
        "  sentences[i]=[ word for word in sentences[i] if word not in stopwords.words('english') ]"
      ],
      "metadata": {
        "id": "uZWY3PsNHuEI"
      },
      "execution_count": null,
      "outputs": []
    },
    {
      "cell_type": "code",
      "source": [
        "\n",
        "model = Word2Vec(sentences, min_count=1)\n",
        "\n",
        "\n"
      ],
      "metadata": {
        "id": "33Bv_7z0IRBi"
      },
      "execution_count": null,
      "outputs": []
    },
    {
      "cell_type": "code",
      "source": [
        "words = model.wv.vocab\n",
        "vector = model.wv['cpu']\n",
        "print(vector)"
      ],
      "metadata": {
        "colab": {
          "base_uri": "https://localhost:8080/"
        },
        "id": "sM7hf0jiJMDk",
        "outputId": "41b0bad7-01ee-44bb-cad0-9032dcea81e8"
      },
      "execution_count": null,
      "outputs": [
        {
          "output_type": "stream",
          "name": "stdout",
          "text": [
            "[ 0.00270762 -0.00247604  0.00271755  0.00369939 -0.00258194  0.00044213\n",
            " -0.00234027 -0.00075739 -0.00174752  0.00393272 -0.00411959 -0.00207496\n",
            " -0.00295351  0.00276053 -0.00029739  0.00257839  0.0047557  -0.00073957\n",
            "  0.003272   -0.0045954   0.00388317 -0.0045167  -0.0039056  -0.00059043\n",
            "  0.00441551 -0.00460364 -0.00064482 -0.00280322  0.00122831 -0.00161356\n",
            "  0.00419482 -0.00204101  0.00457442 -0.00174148 -0.000344   -0.00202558\n",
            " -0.00098563  0.001419    0.0029769   0.00041043  0.00441209  0.00084287\n",
            "  0.00152026 -0.0028868  -0.00051426 -0.00497026  0.00313067  0.00112374\n",
            "  0.00137529  0.0032689   0.00100552  0.00324734 -0.0034135   0.00267094\n",
            " -0.00454892 -0.00293588  0.00246795 -0.00137894  0.00088356  0.00477522\n",
            " -0.00288032  0.00283373  0.00426388  0.00455538  0.00492067  0.00321132\n",
            " -0.00241001  0.00465815 -0.00487334  0.00131478 -0.00179358 -0.00234692\n",
            "  0.00048555 -0.00400156  0.00134103  0.00389606 -0.00287547  0.00490639\n",
            " -0.00496541  0.00337367  0.00231732 -0.00295508  0.00493004  0.00451577\n",
            " -0.00484423 -0.00173495  0.00467145  0.00339178 -0.00365834  0.00268793\n",
            "  0.00440742  0.00023292 -0.00282999 -0.00066877 -0.00064558  0.00056242\n",
            "  0.00267499  0.0009107   0.00389548 -0.00478597]\n"
          ]
        }
      ]
    },
    {
      "cell_type": "code",
      "source": [
        "similar = model.wv.most_similar('processor')\n",
        "print(similar)"
      ],
      "metadata": {
        "colab": {
          "base_uri": "https://localhost:8080/"
        },
        "id": "RBsFRI49JfP4",
        "outputId": "aeaacb4b-ec02-41db-99a5-bbe84052dc23"
      },
      "execution_count": null,
      "outputs": [
        {
          "output_type": "stream",
          "name": "stdout",
          "text": [
            "[('digital', 0.2909351587295532), ('company', 0.23214834928512573), (':', 0.2122667282819748), ('less', 0.20817656815052032), ('invented', 0.20536567270755768), ('capable', 0.1943979263305664), ('solutions', 0.18504652380943298), ('represents', 0.17399412393569946), ('university', 0.16822881996631622), ('respectively', 0.16394326090812683)]\n"
          ]
        }
      ]
    },
    {
      "cell_type": "code",
      "source": [
        ""
      ],
      "metadata": {
        "id": "m3gpRxZ0Jubs"
      },
      "execution_count": null,
      "outputs": []
    }
  ]
}